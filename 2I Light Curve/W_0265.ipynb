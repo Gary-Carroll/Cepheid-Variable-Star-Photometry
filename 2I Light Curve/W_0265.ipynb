{
 "cells": [
  {
   "cell_type": "code",
   "execution_count": 1,
   "metadata": {},
   "outputs": [],
   "source": [
    "%matplotlib inline\n",
    "from astropy.stats import sigma_clipped_stats\n",
    "from photutils import CircularAperture, aperture_photometry, CircularAnnulus, DAOStarFinder\n",
    "import astropy.io.fits as pf\n",
    "import numpy as np\n",
    "import seaborn as sns\n",
    "sns.set()\n",
    "from astropy.visualization import SqrtStretch\n",
    "from astropy.visualization.mpl_normalize import ImageNormalize\n",
    "from astropy.wcs import WCS\n",
    "from matplotlib import pyplot as plt\n",
    "import os\n",
    "from scipy import stats\n",
    "from scipy.optimize import curve_fit\n",
    "from scipy import odr\n",
    "import warnings\n",
    "warnings.filterwarnings('ignore')"
   ]
  },
  {
   "cell_type": "code",
   "execution_count": 7,
   "metadata": {},
   "outputs": [
    {
     "name": "stdout",
     "output_type": "stream",
     "text": [
      "<SkyCoord (FK5: equinox=2000.0): (ra, dec) in deg\n",
      "    (82.16503258, 42.44439502)>\n"
     ]
    }
   ],
   "source": [
    "os.chdir(r'C:\\Users\\garyc\\Desktop\\4th Year\\Astro Project')\n",
    "file = 'wcsW_0265.fits'\n",
    "image = pf.open(file)\n",
    "w = WCS(image[0].header)\n",
    "sky = w.pixel_to_world(403,370)\n",
    "print(sky)"
   ]
  },
  {
   "cell_type": "code",
   "execution_count": 8,
   "metadata": {},
   "outputs": [
    {
     "name": "stdout",
     "output_type": "stream",
     "text": [
      "[463.99671981 637.52709108 433.43418196 264.60370824 332.90197009\n",
      " 287.31937747 622.84457329 660.64327878 698.90531595 568.65410428]\n",
      "[342.58841061 327.49074906 173.85297235 495.72833451 164.74749934\n",
      " 409.85693537 175.1028638  393.40766611 509.50598977 581.95550088]\n",
      " id xcentroid ycentroid sharpness  ... sky    peak      flux      mag   \n",
      "--- --------- --------- ---------- ... --- --------- --------- ---------\n",
      "264 462.00252 338.42507 0.80966104 ...   0 267.52939 32.756872 -3.788256\n",
      " id xcentroid ycentroid sharpness  ... sky    peak     flux      mag    \n",
      "--- --------- --------- ---------- ... --- --------- -------- ----------\n",
      "255 637.27632 324.03649 0.83026097 ...   0 126.80195 14.96961 -2.9380262\n",
      " id xcentroid ycentroid sharpness  ... sky    peak      flux      mag    \n",
      "--- --------- --------- ---------- ... --- --------- --------- ----------\n",
      "122 432.89643  171.9816 0.83833835 ...   0 2042.6212 246.90873 -5.9813411\n",
      "129  432.9493 177.81812 0.56700778 ...   0 18.005572 2.0779539 -0.7940898\n",
      " id xcentroid ycentroid sharpness  ... sky   peak     flux      mag    \n",
      "--- --------- --------- ---------- ... --- ------- --------- ----------\n",
      "388 259.71529 493.73421 0.74989582 ...   0 224.889 28.965339 -3.6546965\n",
      " id xcentroid ycentroid sharpness  ... sky    peak     flux      mag   \n",
      "--- --------- --------- ---------- ... --- --------- -------- ---------\n",
      "115 332.04475 162.91395 0.77357435 ...   0 988.00161 126.3636 -5.254055\n",
      " id xcentroid ycentroid sharpness  ... sky    peak      flux      mag    \n",
      "--- --------- --------- ---------- ... --- --------- --------- ----------\n",
      "319 285.47363 408.49755 0.66840795 ...   0 11932.755 1650.8086 -8.0442418\n",
      " id xcentroid ycentroid sharpness  ... sky    peak      flux      mag    \n",
      "--- --------- --------- ---------- ... --- --------- --------- ----------\n",
      "123 622.29539 173.44071 0.70295383 ...   0 1459.1798 197.95954 -5.7414411\n",
      " id xcentroid ycentroid sharpness  ... sky    peak     flux      mag    \n",
      "--- --------- --------- ---------- ... --- --------- -------- ----------\n",
      "308  660.1547 391.53446 0.70920082 ...   0 866.37476 116.9408 -5.1699152\n",
      " id xcentroid ycentroid sharpness ... sky    peak      flux      mag    \n",
      "--- --------- --------- --------- ... --- --------- --------- ----------\n",
      "402 698.15923 508.48741 0.7152675 ...   0 19466.357 2619.9741 -8.5457425\n",
      " id xcentroid ycentroid sharpness  ... sky    peak      flux      mag    \n",
      "--- --------- --------- ---------- ... --- --------- --------- ----------\n",
      "462 567.47149 581.15751 0.67326915 ...   0 343.75766 47.949723 -4.2019653\n"
     ]
    }
   ],
   "source": [
    "x = [82.150936,82.110034,82.158453,82.197666,82.182192,82.192476,82.113757,82.104471,82.095256,82.125836]\n",
    "y = [42.449436,42.452321,42.478781,42.42245,42.480211,42.437444,42.478844,42.440872,42.420703,42.407897]\n",
    "a = []\n",
    "b = []\n",
    "for i,j in zip(x,y):\n",
    "    px, py = w.wcs_world2pix(i,j, 1)\n",
    "    a.append(px)\n",
    "    b.append(py)\n",
    "    #print('{0} {1}'.format(px, py))\n",
    "    \n",
    "os.chdir(r'C:\\Users\\garyc\\Desktop\\4th Year\\Astro Project\\2I Reduced')\n",
    "file = 'reduceducdW_0265.fits'\n",
    "image = pf.getdata(file)\n",
    "\n",
    "a = np.array(a)\n",
    "b = np.array(b)\n",
    "a = a\n",
    "b = b\n",
    "print(a)\n",
    "print(b)\n",
    "mean, median, std = sigma_clipped_stats(image, sigma=3)\n",
    "daofind = DAOStarFinder(fwhm=5.0, threshold=3*std) \n",
    "sources = daofind(image - median)\n",
    "for col in sources.colnames: \n",
    "    sources[col].info.format = '%.8g'\n",
    "\n",
    "positions = []\n",
    "for i,j in zip(a,b):\n",
    "    ID = []\n",
    "    xref = i\n",
    "    yref = j\n",
    "    for k,l,m in zip(sources['xcentroid'],sources['ycentroid'],sources['id']):\n",
    "        if -5<(k-xref)<5 and -5<(l-yref)<5:\n",
    "            n = m-1\n",
    "            ID.append(n)\n",
    "            positions.append((k,l))\n",
    "    print(sources[ID])"
   ]
  },
  {
   "cell_type": "code",
   "execution_count": 10,
   "metadata": {},
   "outputs": [
    {
     "name": "stdout",
     "output_type": "stream",
     "text": [
      "[(462.00251849721445, 338.42507435124384), (637.2763249022408, 324.03648925684786), (432.8964341091912, 171.98160102993836), (259.7152931282917, 493.7342075455333), (332.0447499973211, 162.91394745497217), (285.47362763099943, 408.4975476479993), (622.2953901685717, 173.44071188922092), (660.1546987082945, 391.53446165726785), (698.1592299869487, 508.48740800421564), (567.4714942164329, 581.1575081993691)]\n"
     ]
    }
   ],
   "source": [
    "positions.remove(positions[3])"
   ]
  },
  {
   "cell_type": "code",
   "execution_count": 11,
   "metadata": {},
   "outputs": [],
   "source": [
    "mags = []\n",
    "magserrors = []\n",
    "for i in positions:\n",
    "    aperture = CircularAperture(i, r=3) \n",
    "    annulus_aperture = CircularAnnulus(i, r_in=12., r_out=15.)\n",
    "    apers = [aperture, annulus_aperture]\n",
    "    phot_table = aperture_photometry(image, apers)\n",
    "    for col in phot_table.colnames:\n",
    "        phot_table[col].info.format = '%.8g'\n",
    "    bkg_mean = phot_table['aperture_sum_1'] / annulus_aperture.area\n",
    "    bkg_total = bkg_mean * aperture.area\n",
    "    net_star = phot_table['aperture_sum_0'] - bkg_total\n",
    "    mags.append(-2.5*np.log10(phot_table['aperture_sum_0'][0]))\n",
    "    dfdx = -1.08574/phot_table['aperture_sum_0'][0]\n",
    "    error = np.sqrt((dfdx**2)*(np.sqrt(phot_table['aperture_sum_0'][0]))**2)\n",
    "    magserrors.append(error)"
   ]
  },
  {
   "cell_type": "code",
   "execution_count": 12,
   "metadata": {},
   "outputs": [
    {
     "name": "stdout",
     "output_type": "stream",
     "text": [
      "Beta: [  0.87703075 -21.33812619]\n",
      "Beta Std Error: [0.03798402 0.49339698]\n",
      "Beta Covariance: [[ 0.03174339 -0.40843224]\n",
      " [-0.40843224  5.35604784]]\n",
      "Residual Variance: 0.04545153159865704\n",
      "Inverse Condition #: 0.05204438589879709\n",
      "Reason(s) for Halting:\n",
      "  Sum of squares convergence\n"
     ]
    },
    {
     "data": {
      "image/png": "[encoded data removed]",
      "text/plain": [
       "<Figure size 432x288 with 1 Axes>"
      ]
     },
     "metadata": {},
     "output_type": "display_data"
    }
   ],
   "source": [
    "mags = np.array(mags)\n",
    "Vmag = [15.758,16.402,13.119,15.872,13.806,10.272,12.923,14.323,11.868,14.98]\n",
    "Vmag = np.array(Vmag)\n",
    "Vmagerrors = [0.036,0.054,0.037,0.041,0.057,0.041,0.049,0.063,0.058,0.066]\n",
    "\n",
    "\n",
    "rprime = [15.226,15.971,12.940,15.474,13.608,10.316,12.843,13.891,11.167,14.691]\n",
    "rprimeerror = [0.13,0.15,0.026,0.068,0.046,0.033,0.027,0.041,0.033,0.071]\n",
    "\n",
    "iprime = [14.84,15.842,12.726,15.178,13.39,10.326,12.771,13.502,10.349,14.299]\n",
    "iprimeerror = [0.09,0.15,0.026,0.052,0.15,0.074,0.054,0.067,0.07,0.062,0.043]\n",
    "\n",
    "Imag = []\n",
    "Imagerror = []\n",
    "for rp, ip, rperror, iperror in zip(rprime,iprime,rprimeerror,iprimeerror):\n",
    "    r = rp +0.035*(rp-ip-0.21)\n",
    "    rdrp = 1.035\n",
    "    rdip = -0.035\n",
    "    rerror = np.sqrt((rdrp**2)*rperror**2+(rdip**2)*iperror**2)\n",
    "    \n",
    "    i = ip + 0.041*(rp-ip-0.21)\n",
    "    idrp = 0.041\n",
    "    idip = 0.959\n",
    "    ierror = np.sqrt((idrp**2)*rperror**2+(idip**2)*iperror**2)\n",
    "    \n",
    "   \n",
    "    I = r-1.2444*(r-i)-0.382\n",
    "    dr = -0.2444\n",
    "    di = -1.2444\n",
    "    Ierror = np.sqrt((dr**2)*(rerror**2)+(di**2)*(ierror**2))\n",
    "    \n",
    "    Imag.append(I)\n",
    "    Imagerror.append(Ierror)\n",
    "Imag = np.array(Imag)\n",
    "Imagerror = np.array(Imagerror)\n",
    "\n",
    "\n",
    "\n",
    "plt.errorbar(Imag,mags,xerr=Imagerror,yerr=magserrors,fmt='o')\n",
    "plt.ylabel('Instrumental Magnitude')\n",
    "plt.xlabel('Real Magnitude')\n",
    "\n",
    "def func(p, x):\n",
    "    m, c = p\n",
    "    return m*x + c\n",
    "mydata = odr.RealData(Imag, mags, sx = Imagerror, sy = None)\n",
    "linear = odr.Model(func)\n",
    "myodr = odr.ODR(mydata, linear,beta0 =[1, -23])\n",
    "myoutput = myodr.run()\n",
    "y = myoutput.beta[0]*Imag+myoutput.beta[1]\n",
    "plt.plot(Imag,y)\n",
    "myoutput.pprint()"
   ]
  },
  {
   "cell_type": "code",
   "execution_count": 21,
   "metadata": {},
   "outputs": [
    {
     "name": "stdout",
     "output_type": "stream",
     "text": [
      " id xcentroid ycentroid sharpness  ... sky    peak      flux       mag     \n",
      "--- --------- --------- ---------- ... --- --------- --------- ------------\n",
      "267 377.80008 346.28708 0.78704501 ...   0 25.025767 3.0914856   -1.2254181\n",
      "273 385.63571 351.99358 0.63208683 ...   0 6.9041569 1.0672187 -0.070633591\n"
     ]
    }
   ],
   "source": [
    "xref = 377\n",
    "yref = 351\n",
    "\n",
    "mean, median, std = sigma_clipped_stats(image, sigma=3)\n",
    "daofind = DAOStarFinder(fwhm=5.0, threshold=3*std) \n",
    "sources = daofind(image - median)\n",
    "ID = []\n",
    "for col in sources.colnames: \n",
    "    sources[col].info.format = '%.8g'\n",
    "for k,l,m in zip(sources['xcentroid'],sources['ycentroid'],sources['id']):\n",
    "    if -10<(k-xref)<10 and -10<(l-yref)<10:\n",
    "        n = m-1\n",
    "        ID.append(n)\n",
    "print(sources[ID])"
   ]
  },
  {
   "cell_type": "code",
   "execution_count": 14,
   "metadata": {},
   "outputs": [
    {
     "name": "stdout",
     "output_type": "stream",
     "text": [
      "[-7.573520024372716]\n"
     ]
    }
   ],
   "source": [
    "sourcemag = []\n",
    "sourcemagerror = []\n",
    "position = [(377.80008,346.28708)]\n",
    "aperture = CircularAperture(position[0], r=3) \n",
    "annulus_aperture = CircularAnnulus(position[0], r_in=12., r_out=15.)\n",
    "apers = [aperture, annulus_aperture]\n",
    "phot_table = aperture_photometry(image, apers)\n",
    "for col in phot_table.colnames:\n",
    "    phot_table[col].info.format = '%.8g'\n",
    "bkg_mean = phot_table['aperture_sum_1'] / annulus_aperture.area\n",
    "bkg_total = bkg_mean * aperture.area\n",
    "net_star = phot_table['aperture_sum_0'] - bkg_total\n",
    "sourcemag.append(-2.5*np.log10(phot_table['aperture_sum_0'][0]))\n",
    "sourcemagerror.append((-1.08574/phot_table['aperture_sum_0'][0])*np.sqrt(phot_table['aperture_sum_0'][0]))\n",
    "print(sourcemag)"
   ]
  },
  {
   "cell_type": "code",
   "execution_count": 15,
   "metadata": {},
   "outputs": [
    {
     "name": "stdout",
     "output_type": "stream",
     "text": [
      "15.694553623979594 +/- 0.8831503456859224\n"
     ]
    }
   ],
   "source": [
    "dy = 1/myoutput.beta[0]\n",
    "dc = -1/myoutput.beta[0]\n",
    "dm = (myoutput.beta[1]-sourcemag[0])/(myoutput.beta[0])**2\n",
    "error = np.sqrt((dy**2)*sourcemagerror[0]**2+(dc**2)*(myoutput.sd_beta[1])**2+(dm**2)*(myoutput.sd_beta[0])**2)\n",
    "print((sourcemag[0]-myoutput.beta[1])/myoutput.beta[0],'+/-',error)"
   ]
  },
  {
   "cell_type": "code",
   "execution_count": null,
   "metadata": {},
   "outputs": [],
   "source": []
  }
 ],
 "metadata": {
  "kernelspec": {
   "display_name": "Python 3",
   "language": "python",
   "name": "python3"
  },
  "language_info": {
   "codemirror_mode": {
    "name": "ipython",
    "version": 3
   },
   "file_extension": ".py",
   "mimetype": "text/x-python",
   "name": "python",
   "nbconvert_exporter": "python",
   "pygments_lexer": "ipython3",
   "version": "3.7.6"
  }
 },
 "nbformat": 4,
 "nbformat_minor": 4
}
