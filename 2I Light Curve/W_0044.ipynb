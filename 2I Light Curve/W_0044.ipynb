{
 "cells": [
  {
   "cell_type": "code",
   "execution_count": 1,
   "metadata": {},
   "outputs": [],
   "source": [
    "%matplotlib inline\n",
    "from astropy.stats import sigma_clipped_stats\n",
    "from photutils import CircularAperture, aperture_photometry, CircularAnnulus, DAOStarFinder\n",
    "import astropy.io.fits as pf\n",
    "import numpy as np\n",
    "import seaborn as sns\n",
    "sns.set()\n",
    "from astropy.visualization import SqrtStretch\n",
    "from astropy.visualization.mpl_normalize import ImageNormalize\n",
    "from astropy.wcs import WCS\n",
    "from matplotlib import pyplot as plt\n",
    "import os\n",
    "from scipy import stats\n",
    "from scipy.optimize import curve_fit\n",
    "from scipy import odr\n",
    "import warnings\n",
    "warnings.filterwarnings('ignore')"
   ]
  },
  {
   "cell_type": "code",
   "execution_count": 2,
   "metadata": {},
   "outputs": [
    {
     "name": "stdout",
     "output_type": "stream",
     "text": [
      "<SkyCoord (FK5: equinox=2000.0): (ra, dec) in deg\n",
      "    (82.15734155, 42.43443014)>\n"
     ]
    }
   ],
   "source": [
    "os.chdir(r'C:\\Users\\garyc\\Desktop\\4th Year\\Astro Project')\n",
    "file = 'wcsW_0044.fits'\n",
    "image = pf.open(file)\n",
    "w = WCS(image[0].header)\n",
    "sky = w.pixel_to_world(403,370)\n",
    "print(sky)"
   ]
  },
  {
   "cell_type": "code",
   "execution_count": 4,
   "metadata": {},
   "outputs": [
    {
     "name": "stdout",
     "output_type": "stream",
     "text": [
      "[431.83952032 605.66245048 401.18752782 232.1404156  300.48182002\n",
      " 254.87578862 590.92124169 628.83260525 667.18549586 536.72825927]\n",
      "[284.6800463  269.98389426 115.43844471 437.70353234 106.05499721\n",
      " 351.67160924 117.1716438  336.12683721 452.61698968 524.92032582]\n",
      " id xcentroid ycentroid sharpness  ... sky    peak      flux      mag    \n",
      "--- --------- --------- ---------- ... --- --------- --------- ----------\n",
      "278 429.56155 281.51238 0.39863311 ...   0 170.56884 36.823604 -3.9153157\n",
      " id xcentroid ycentroid sharpness  ... sky    peak      flux      mag    \n",
      "--- --------- --------- ---------- ... --- --------- --------- ----------\n",
      "266 604.62283  267.2117 0.35656876 ...   0 67.681225 15.769752 -2.9945621\n",
      " id xcentroid ycentroid sharpness  ... sky    peak      flux      mag    \n",
      "--- --------- --------- ---------- ... --- --------- --------- ----------\n",
      "103 400.42515 115.13719 0.90703032 ...   0 2338.9738 280.45727 -6.1196668\n",
      " id xcentroid ycentroid sharpness ... sky    peak      flux      mag    \n",
      "--- --------- --------- --------- ... --- --------- --------- ----------\n",
      "434 227.23379 436.82765 0.8388853 ...   0 260.33196 32.485498 -3.7792238\n",
      " id xcentroid ycentroid sharpness  ... sky    peak      flux      mag    \n",
      "--- --------- --------- ---------- ... --- --------- --------- ----------\n",
      " 90 299.34633 106.07729 0.95194014 ...   0 1292.9535 148.15924 -5.4268218\n",
      " id xcentroid ycentroid sharpness  ... sky    peak      flux      mag    \n",
      "--- --------- --------- ---------- ... --- --------- --------- ----------\n",
      "352  253.0265 351.52972 0.64020409 ...   0 13144.229 2030.4078 -8.2689582\n",
      " id xcentroid ycentroid sharpness  ... sky    peak      flux      mag    \n",
      "--- --------- --------- ---------- ... --- --------- --------- ----------\n",
      "105 589.75461 116.68853 0.54449122 ...   0 1255.4088 217.52082 -5.8437521\n",
      " id xcentroid ycentroid sharpness  ... sky    peak      flux      mag    \n",
      "--- --------- --------- ---------- ... --- --------- --------- ----------\n",
      "333 627.67058 334.76245 0.49974327 ...   0 678.46321 124.65531 -5.2392769\n",
      " id xcentroid ycentroid sharpness  ... sky    peak      flux      mag    \n",
      "--- --------- --------- ---------- ... --- --------- --------- ----------\n",
      "454  665.7259 451.56481 0.48016086 ...   0 13718.025 2504.7217 -8.4968987\n",
      " id xcentroid ycentroid sharpness  ... sky    peak      flux      mag   \n",
      "--- --------- --------- ---------- ... --- --------- --------- ---------\n",
      "517 535.18113 524.22271 0.63258297 ...   0 349.35427 54.574932 -4.342483\n"
     ]
    }
   ],
   "source": [
    "x = [82.150936,82.110034,82.158453,82.197666,82.182192,82.192476,82.113757,82.104471,82.095256,82.125836]\n",
    "y = [42.449436,42.452321,42.478781,42.42245,42.480211,42.437444,42.478844,42.440872,42.420703,42.407897]\n",
    "a = []\n",
    "b = []\n",
    "for i,j in zip(x,y):\n",
    "    px, py = w.wcs_world2pix(i,j, 1)\n",
    "    a.append(px)\n",
    "    b.append(py)\n",
    "    #print('{0} {1}'.format(px, py))\n",
    "    \n",
    "os.chdir(r'C:\\Users\\garyc\\Desktop\\4th Year\\Astro Project\\2I Reduced')\n",
    "file = 'reduceducdW_0044.fits'\n",
    "image = pf.getdata(file)\n",
    "\n",
    "a = np.array(a)\n",
    "b = np.array(b)\n",
    "a = a\n",
    "b = b\n",
    "print(a)\n",
    "print(b)\n",
    "mean, median, std = sigma_clipped_stats(image, sigma=3)\n",
    "daofind = DAOStarFinder(fwhm=4.0, threshold=3*std) \n",
    "sources = daofind(image - median)\n",
    "for col in sources.colnames: \n",
    "    sources[col].info.format = '%.8g'\n",
    "\n",
    "positions = []\n",
    "for i,j in zip(a,b):\n",
    "    ID = []\n",
    "    xref = i\n",
    "    yref = j\n",
    "    for k,l,m in zip(sources['xcentroid'],sources['ycentroid'],sources['id']):\n",
    "        if -5<(k-xref)<5 and -5<(l-yref)<5:\n",
    "            n = m-1\n",
    "            ID.append(n)\n",
    "            positions.append((k,l))\n",
    "    print(sources[ID])"
   ]
  },
  {
   "cell_type": "code",
   "execution_count": 5,
   "metadata": {},
   "outputs": [],
   "source": [
    "mags = []\n",
    "magserrors = []\n",
    "for i in positions:\n",
    "    aperture = CircularAperture(i, r=3) \n",
    "    annulus_aperture = CircularAnnulus(i, r_in=12., r_out=15.)\n",
    "    apers = [aperture, annulus_aperture]\n",
    "    phot_table = aperture_photometry(image, apers)\n",
    "    for col in phot_table.colnames:\n",
    "        phot_table[col].info.format = '%.8g'\n",
    "    bkg_mean = phot_table['aperture_sum_1'] / annulus_aperture.area\n",
    "    bkg_total = bkg_mean * aperture.area\n",
    "    net_star = phot_table['aperture_sum_0'] - bkg_total\n",
    "    mags.append(-2.5*np.log10(phot_table['aperture_sum_0'][0]))\n",
    "    dfdx = -1.08574/phot_table['aperture_sum_0'][0]\n",
    "    error = np.sqrt((dfdx**2)*(np.sqrt(phot_table['aperture_sum_0'][0]))**2)\n",
    "    magserrors.append(error)"
   ]
  },
  {
   "cell_type": "code",
   "execution_count": 6,
   "metadata": {},
   "outputs": [
    {
     "name": "stdout",
     "output_type": "stream",
     "text": [
      "Beta: [  0.89326716 -20.94297979]\n",
      "Beta Std Error: [0.03475797 0.45148628]\n",
      "Beta Covariance: [[ 0.03174926 -0.40850208]\n",
      " [-0.40850208  5.35690441]]\n",
      "Residual Variance: 0.038051801817103444\n",
      "Inverse Condition #: 0.05204838228526288\n",
      "Reason(s) for Halting:\n",
      "  Sum of squares convergence\n"
     ]
    },
    {
     "data": {
      "image/png": "[encoded data removed]",
      "text/plain": [
       "<Figure size 432x288 with 1 Axes>"
      ]
     },
     "metadata": {},
     "output_type": "display_data"
    }
   ],
   "source": [
    "mags = np.array(mags)\n",
    "Vmag = [15.758,16.402,13.119,15.872,13.806,10.272,12.923,14.323,11.868,14.98]\n",
    "Vmag = np.array(Vmag)\n",
    "Vmagerrors = [0.036,0.054,0.037,0.041,0.057,0.041,0.049,0.063,0.058,0.066]\n",
    "\n",
    "\n",
    "rprime = [15.226,15.971,12.940,15.474,13.608,10.316,12.843,13.891,11.167,14.691]\n",
    "rprimeerror = [0.13,0.15,0.026,0.068,0.046,0.033,0.027,0.041,0.033,0.071]\n",
    "\n",
    "iprime = [14.84,15.842,12.726,15.178,13.39,10.326,12.771,13.502,10.349,14.299]\n",
    "iprimeerror = [0.09,0.15,0.026,0.052,0.15,0.074,0.054,0.067,0.07,0.062,0.043]\n",
    "\n",
    "Imag = []\n",
    "Imagerror = []\n",
    "for rp, ip, rperror, iperror in zip(rprime,iprime,rprimeerror,iprimeerror):\n",
    "    r = rp +0.035*(rp-ip-0.21)\n",
    "    rdrp = 1.035\n",
    "    rdip = -0.035\n",
    "    rerror = np.sqrt((rdrp**2)*rperror**2+(rdip**2)*iperror**2)\n",
    "    \n",
    "    i = ip + 0.041*(rp-ip-0.21)\n",
    "    idrp = 0.041\n",
    "    idip = 0.959\n",
    "    ierror = np.sqrt((idrp**2)*rperror**2+(idip**2)*iperror**2)\n",
    "    \n",
    "   \n",
    "    I = r-1.2444*(r-i)-0.382\n",
    "    dr = -0.2444\n",
    "    di = -1.2444\n",
    "    Ierror = np.sqrt((dr**2)*(rerror**2)+(di**2)*(ierror**2))\n",
    "    \n",
    "    Imag.append(I)\n",
    "    Imagerror.append(Ierror)\n",
    "Imag = np.array(Imag)\n",
    "Imagerror = np.array(Imagerror)\n",
    "\n",
    "\n",
    "\n",
    "plt.errorbar(Imag,mags,xerr=Imagerror,yerr=magserrors,fmt='o')\n",
    "plt.ylabel('Instrumental Magnitude')\n",
    "plt.xlabel('Real Magnitude')\n",
    "\n",
    "def func(p, x):\n",
    "    m, c = p\n",
    "    return m*x + c\n",
    "mydata = odr.RealData(Imag, mags, sx = Imagerror, sy = None)\n",
    "linear = odr.Model(func)\n",
    "myodr = odr.ODR(mydata, linear,beta0 =[1, -23])\n",
    "myoutput = myodr.run()\n",
    "y = myoutput.beta[0]*Imag+myoutput.beta[1]\n",
    "plt.plot(Imag,y)\n",
    "myoutput.pprint()"
   ]
  },
  {
   "cell_type": "code",
   "execution_count": 7,
   "metadata": {},
   "outputs": [
    {
     "name": "stdout",
     "output_type": "stream",
     "text": [
      " id xcentroid ycentroid sharpness  ... sky    peak      flux       mag     \n",
      "--- --------- --------- ---------- ... --- --------- --------- ------------\n",
      "517 511.78817 627.48141  0.4981408 ...   0 4.0436486  1.016893 -0.018188118\n",
      "289 376.42937 344.40927 0.64821604 ...   0 137.19949 9.6777346   -2.4644343\n",
      "298 377.03724 351.02874   0.738499 ...   0 60905.075 8339.9094   -9.8029033\n",
      "310  370.9764 358.93644 0.60489739 ...   0 19.390492 1.5500676  -0.47587662\n"
     ]
    }
   ],
   "source": [
    "xref = 377\n",
    "yref = 350\n",
    "\n",
    "mean, median, std = sigma_clipped_stats(image, sigma=5)\n",
    "daofind = DAOStarFinder(fwhm=4.0, threshold=3*std) \n",
    "sources = daofind(image - median)\n",
    "for col in sources.colnames: \n",
    "    sources[col].info.format = '%.8g'\n",
    "for k,l,m in zip(sources['xcentroid'],sources['ycentroid'],sources['id']):\n",
    "    if -10<(k-xref)<10 and -10<(l-yref)<10:\n",
    "        n = m-1\n",
    "        ID.append(n)\n",
    "print(sources[ID])"
   ]
  },
  {
   "cell_type": "code",
   "execution_count": 8,
   "metadata": {},
   "outputs": [
    {
     "name": "stdout",
     "output_type": "stream",
     "text": [
      "[-13.508727550333877]\n"
     ]
    }
   ],
   "source": [
    "sourcemag = []\n",
    "sourcemagerror = []\n",
    "position = [(377.03724,351.02874)]\n",
    "aperture = CircularAperture(position[0], r=3) \n",
    "annulus_aperture = CircularAnnulus(position[0], r_in=12., r_out=15.)\n",
    "apers = [aperture, annulus_aperture]\n",
    "phot_table = aperture_photometry(image, apers)\n",
    "for col in phot_table.colnames:\n",
    "    phot_table[col].info.format = '%.8g'\n",
    "bkg_mean = phot_table['aperture_sum_1'] / annulus_aperture.area\n",
    "bkg_total = bkg_mean * aperture.area\n",
    "net_star = phot_table['aperture_sum_0'] - bkg_total\n",
    "sourcemag.append(-2.5*np.log10(phot_table['aperture_sum_0'][0]))\n",
    "sourcemagerror.append((-1.08574/phot_table['aperture_sum_0'][0])*np.sqrt(phot_table['aperture_sum_0'][0]))\n",
    "print(sourcemag)"
   ]
  },
  {
   "cell_type": "code",
   "execution_count": 9,
   "metadata": {},
   "outputs": [
    {
     "name": "stdout",
     "output_type": "stream",
     "text": [
      "8.322540592792826 +/- 0.6002828507803476\n"
     ]
    }
   ],
   "source": [
    "dy = 1/myoutput.beta[0]\n",
    "dc = -1/myoutput.beta[0]\n",
    "dm = (myoutput.beta[1]-sourcemag[0])/(myoutput.beta[0])**2\n",
    "error = np.sqrt((dy**2)*sourcemagerror[0]**2+(dc**2)*(myoutput.sd_beta[1])**2+(dm**2)*(myoutput.sd_beta[0])**2)\n",
    "print((sourcemag[0]-myoutput.beta[1])/myoutput.beta[0],'+/-',error)"
   ]
  },
  {
   "cell_type": "code",
   "execution_count": null,
   "metadata": {},
   "outputs": [],
   "source": []
  }
 ],
 "metadata": {
  "kernelspec": {
   "display_name": "Python 3",
   "language": "python",
   "name": "python3"
  },
  "language_info": {
   "codemirror_mode": {
    "name": "ipython",
    "version": 3
   },
   "file_extension": ".py",
   "mimetype": "text/x-python",
   "name": "python",
   "nbconvert_exporter": "python",
   "pygments_lexer": "ipython3",
   "version": "3.7.6"
  }
 },
 "nbformat": 4,
 "nbformat_minor": 4
}
