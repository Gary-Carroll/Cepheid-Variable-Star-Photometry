{
 "cells": [
  {
   "cell_type": "code",
   "execution_count": 3,
   "metadata": {},
   "outputs": [],
   "source": [
    "%matplotlib inline\n",
    "from astropy.stats import sigma_clipped_stats\n",
    "from photutils import CircularAperture, aperture_photometry, CircularAnnulus, DAOStarFinder\n",
    "import astropy.io.fits as pf\n",
    "import numpy as np\n",
    "import seaborn as sns\n",
    "sns.set()\n",
    "from astropy.visualization import SqrtStretch\n",
    "from astropy.visualization.mpl_normalize import ImageNormalize\n",
    "from astropy.wcs import WCS\n",
    "from matplotlib import pyplot as plt\n",
    "import os\n",
    "from scipy import stats\n",
    "from scipy.optimize import curve_fit\n",
    "from scipy import odr\n",
    "import warnings\n",
    "warnings.filterwarnings('ignore')"
   ]
  },
  {
   "cell_type": "code",
   "execution_count": 1,
   "metadata": {},
   "outputs": [
    {
     "data": {
      "text/plain": [
       "'@ARTICLE{2018AJ....156..123T,\\n   author = {{The Astropy Collaboration} and {Price-Whelan}, A.~M. and {Sip{\\\\H o}cz}, B.~M. and \\n\\t{G{\\\\\"u}nther}, H.~M. and {Lim}, P.~L. and {Crawford}, S.~M. and \\n\\t{Conseil}, S. and {Shupe}, D.~L. and {Craig}, M.~W. and {Dencheva}, N. and \\n\\t{Ginsburg}, A. and {VanderPlas}, J.~T. and {Bradley}, L.~D. and \\n\\t{P{\\\\\\'e}rez-Su{\\\\\\'a}rez}, D. and {de Val-Borro}, M. and {Paper Contributors}, (. and \\n\\t{Aldcroft}, T.~L. and {Cruz}, K.~L. and {Robitaille}, T.~P. and \\n\\t{Tollerud}, E.~J. and {Coordination Committee}, (. and {Ardelean}, C. and \\n\\t{Babej}, T. and {Bach}, Y.~P. and {Bachetti}, M. and {Bakanov}, A.~V. and \\n\\t{Bamford}, S.~P. and {Barentsen}, G. and {Barmby}, P. and {Baumbach}, A. and \\n\\t{Berry}, K.~L. and {Biscani}, F. and {Boquien}, M. and {Bostroem}, K.~A. and \\n\\t{Bouma}, L.~G. and {Brammer}, G.~B. and {Bray}, E.~M. and {Breytenbach}, H. and \\n\\t{Buddelmeijer}, H. and {Burke}, D.~J. and {Calderone}, G. and \\n\\t{Cano Rodr{\\\\\\'{\\\\i}}guez}, J.~L. and {Cara}, M. and {Cardoso}, J.~V.~M. and \\n\\t{Cheedella}, S. and {Copin}, Y. and {Corrales}, L. and {Crichton}, D. and \\n\\t{D{\\\\rsquo}Avella}, D. and {Deil}, C. and {Depagne}, {\\\\\\'E}. and \\n\\t{Dietrich}, J.~P. and {Donath}, A. and {Droettboom}, M. and \\n\\t{Earl}, N. and {Erben}, T. and {Fabbro}, S. and {Ferreira}, L.~A. and \\n\\t{Finethy}, T. and {Fox}, R.~T. and {Garrison}, L.~H. and {Gibbons}, S.~L.~J. and \\n\\t{Goldstein}, D.~A. and {Gommers}, R. and {Greco}, J.~P. and \\n\\t{Greenfield}, P. and {Groener}, A.~M. and {Grollier}, F. and \\n\\t{Hagen}, A. and {Hirst}, P. and {Homeier}, D. and {Horton}, A.~J. and \\n\\t{Hosseinzadeh}, G. and {Hu}, L. and {Hunkeler}, J.~S. and {Ivezi{\\\\\\'c}}, {\\\\v Z}. and \\n\\t{Jain}, A. and {Jenness}, T. and {Kanarek}, G. and {Kendrew}, S. and \\n\\t{Kern}, N.~S. and {Kerzendorf}, W.~E. and {Khvalko}, A. and \\n\\t{King}, J. and {Kirkby}, D. and {Kulkarni}, A.~M. and {Kumar}, A. and \\n\\t{Lee}, A. and {Lenz}, D. and {Littlefair}, S.~P. and {Ma}, Z. and \\n\\t{Macleod}, D.~M. and {Mastropietro}, M. and {McCully}, C. and \\n\\t{Montagnac}, S. and {Morris}, B.~M. and {Mueller}, M. and {Mumford}, S.~J. and \\n\\t{Muna}, D. and {Murphy}, N.~A. and {Nelson}, S. and {Nguyen}, G.~H. and \\n\\t{Ninan}, J.~P. and {N{\\\\\"o}the}, M. and {Ogaz}, S. and {Oh}, S. and \\n\\t{Parejko}, J.~K. and {Parley}, N. and {Pascual}, S. and {Patil}, R. and \\n\\t{Patil}, A.~A. and {Plunkett}, A.~L. and {Prochaska}, J.~X. and \\n\\t{Rastogi}, T. and {Reddy Janga}, V. and {Sabater}, J. and {Sakurikar}, P. and \\n\\t{Seifert}, M. and {Sherbert}, L.~E. and {Sherwood-Taylor}, H. and \\n\\t{Shih}, A.~Y. and {Sick}, J. and {Silbiger}, M.~T. and {Singanamalla}, S. and \\n\\t{Singer}, L.~P. and {Sladen}, P.~H. and {Sooley}, K.~A. and \\n\\t{Sornarajah}, S. and {Streicher}, O. and {Teuben}, P. and {Thomas}, S.~W. and \\n\\t{Tremblay}, G.~R. and {Turner}, J.~E.~H. and {Terr{\\\\\\'o}n}, V. and \\n\\t{van Kerkwijk}, M.~H. and {de la Vega}, A. and {Watkins}, L.~L. and \\n\\t{Weaver}, B.~A. and {Whitmore}, J.~B. and {Woillez}, J. and \\n\\t{Zabalza}, V. and {Contributors}, (.},\\n    title = \"{The Astropy Project: Building an Open-science Project and Status of the v2.0 Core Package}\",\\n  journal = {\\\\aj},\\narchivePrefix = \"arXiv\",\\n   eprint = {1801.02634},\\n primaryClass = \"astro-ph.IM\",\\n keywords = {methods: data analysis, methods: miscellaneous, methods: statistical, reference systems },\\n     year = 2018,\\n    month = sep,\\n   volume = 156,\\n      eid = {123},\\n    pages = {123},\\n      doi = {10.3847/1538-3881/aabc4f},\\n   adsurl = {http://adsabs.harvard.edu/abs/2018AJ....156..123T},\\n  adsnote = {Provided by the SAO/NASA Astrophysics Data System}\\n}\\n\\n'"
      ]
     },
     "execution_count": 1,
     "metadata": {},
     "output_type": "execute_result"
    }
   ],
   "source": [
    "import astropy\n",
    "astropy.__citation__"
   ]
  },
  {
   "cell_type": "code",
   "execution_count": 15,
   "metadata": {},
   "outputs": [
    {
     "name": "stdout",
     "output_type": "stream",
     "text": [
      "<SkyCoord (FK5: equinox=2000.0): (ra, dec) in deg\n",
      "    (82.16318658, 42.43770046)>\n"
     ]
    }
   ],
   "source": [
    "os.chdir(r'C:\\Users\\garyc\\Desktop\\4th Year\\Astro Project')\n",
    "file = 'wcsM_0016.fits'\n",
    "image = pf.open(file)\n",
    "w = WCS(image[0].header)\n",
    "sky = w.pixel_to_world(403,370)\n",
    "print(sky)"
   ]
  },
  {
   "cell_type": "code",
   "execution_count": 21,
   "metadata": {},
   "outputs": [
    {
     "name": "stdout",
     "output_type": "stream",
     "text": [
      "[456.48279859 630.32386073 425.85870196 256.73822809 325.14572785\n",
      " 279.49119241 615.60899117 653.4841094  691.81933505 561.3374026 ]\n",
      "[303.70315889 289.00858629 134.45243455 456.7318375  125.06715078\n",
      " 370.69579183 136.18827253 355.15524497 471.65190858 543.95721311]\n",
      " id xcentroid ycentroid sharpness ... sky    peak      flux      mag    \n",
      "--- --------- --------- --------- ... --- --------- --------- ----------\n",
      "267 454.31999 300.47463 0.5570065 ...   0 171.13701 21.927674 -3.3524814\n",
      " id xcentroid ycentroid sharpness ... sky    peak      flux      mag   \n",
      "--- --------- --------- --------- ... --- --------- --------- ---------\n",
      "256 629.53038 286.10425  0.789143 ...   0 101.49539 10.171401 -2.518452\n",
      " id xcentroid ycentroid sharpness  ... sky    peak      flux     mag   \n",
      "--- --------- --------- ---------- ... --- --------- --------- --------\n",
      "106 425.36024 133.98549 0.57165338 ...   0 1275.4936 164.80713 -5.54244\n",
      " id xcentroid ycentroid sharpness  ... sky    peak      flux      mag    \n",
      "--- --------- --------- ---------- ... --- --------- --------- ----------\n",
      "406 252.19367 455.56131 0.53969105 ...   0 160.47411 21.521278 -3.3321702\n",
      " id xcentroid ycentroid sharpness  ... sky    peak      flux      mag    \n",
      "--- --------- --------- ---------- ... --- --------- --------- ----------\n",
      " 99 324.32733 124.99798 0.58906043 ...   0 714.96313 90.861008 -4.8959439\n",
      " id xcentroid ycentroid sharpness  ... sky    peak      flux      mag   \n",
      "--- --------- --------- ---------- ... --- --------- --------- ---------\n",
      "331 277.87999 370.44843 0.58729408 ...   0 10456.083 1330.6407 -7.810152\n",
      " id xcentroid ycentroid sharpness  ... sky    peak     flux      mag   \n",
      "--- --------- --------- ---------- ... --- --------- -------- ---------\n",
      "108 614.49729 135.46309 0.69637371 ...   0 1221.9841 135.2374 -5.327742\n",
      " id xcentroid ycentroid sharpness  ... sky    peak      flux      mag    \n",
      "--- --------- --------- ---------- ... --- --------- --------- ----------\n",
      "318 652.50463 353.61007 0.62585498 ...   0 698.71222 84.916086 -4.8224749\n",
      " id xcentroid ycentroid sharpness  ... sky    peak      flux      mag    \n",
      "--- --------- --------- ---------- ... --- --------- --------- ----------\n",
      "428 690.54546 470.45952 0.70993403 ...   0 17310.519 1926.1541 -8.2117276\n",
      " id xcentroid ycentroid sharpness  ... sky    peak      flux      mag   \n",
      "--- --------- --------- ---------- ... --- --------- --------- ---------\n",
      "494 559.98975 543.11097 0.72471233 ...   0 376.92071 42.538208 -4.071948\n"
     ]
    }
   ],
   "source": [
    "x = [82.150936,82.110034,82.158453,82.197666,82.182192,82.192476,82.113757,82.104471,82.095256,82.125836]\n",
    "y = [42.449436,42.452321,42.478781,42.42245,42.480211,42.437444,42.478844,42.440872,42.420703,42.407897]\n",
    "a = []\n",
    "b = []\n",
    "for i,j in zip(x,y):\n",
    "    px, py = w.wcs_world2pix(i,j, 1)\n",
    "    a.append(px)\n",
    "    b.append(py)\n",
    "    #print('{0} {1}'.format(px, py))\n",
    "    \n",
    "os.chdir(r'C:\\Users\\garyc\\Desktop\\4th Year\\Astro Project\\2I Reduced')\n",
    "file = 'reduceducdM_0016.fits'\n",
    "image = pf.getdata(file)\n",
    "\n",
    "a = np.array(a)\n",
    "b = np.array(b)\n",
    "a = a\n",
    "b = b\n",
    "print(a)\n",
    "print(b)\n",
    "mean, median, std = sigma_clipped_stats(image, sigma=3)\n",
    "daofind = DAOStarFinder(fwhm=5.0, threshold=3*std) \n",
    "sources = daofind(image - median)\n",
    "for col in sources.colnames: \n",
    "    sources[col].info.format = '%.8g'\n",
    "\n",
    "positions = []\n",
    "for i,j in zip(a,b):\n",
    "    ID = []\n",
    "    xref = i\n",
    "    yref = j\n",
    "    for k,l,m in zip(sources['xcentroid'],sources['ycentroid'],sources['id']):\n",
    "        if -5<(k-xref)<5 and -5<(l-yref)<5:\n",
    "            n = m-1\n",
    "            ID.append(n)\n",
    "            positions.append((k,l))\n",
    "    print(sources[ID])"
   ]
  },
  {
   "cell_type": "code",
   "execution_count": 22,
   "metadata": {},
   "outputs": [],
   "source": [
    "mags = []\n",
    "magserrors = []\n",
    "for i in positions:\n",
    "    aperture = CircularAperture(i, r=3) \n",
    "    annulus_aperture = CircularAnnulus(i, r_in=12., r_out=15.)\n",
    "    apers = [aperture, annulus_aperture]\n",
    "    phot_table = aperture_photometry(image, apers)\n",
    "    for col in phot_table.colnames:\n",
    "        phot_table[col].info.format = '%.8g'\n",
    "    bkg_mean = phot_table['aperture_sum_1'] / annulus_aperture.area\n",
    "    bkg_total = bkg_mean * aperture.area\n",
    "    net_star = phot_table['aperture_sum_0'] - bkg_total\n",
    "    mags.append(-2.5*np.log10(phot_table['aperture_sum_0'][0]))\n",
    "    dfdx = -1.08574/phot_table['aperture_sum_0'][0]\n",
    "    error = np.sqrt((dfdx**2)*(np.sqrt(phot_table['aperture_sum_0'][0]))**2)\n",
    "    magserrors.append(error)"
   ]
  },
  {
   "cell_type": "code",
   "execution_count": 23,
   "metadata": {},
   "outputs": [
    {
     "name": "stdout",
     "output_type": "stream",
     "text": [
      "Beta: [  0.84600948 -20.9777086 ]\n",
      "Beta Std Error: [0.04173341 0.54211357]\n",
      "Beta Covariance: [[ 0.03172361 -0.40818798]\n",
      " [-0.40818798  5.35297603]]\n",
      "Residual Variance: 0.05490163261009446\n",
      "Inverse Condition #: 0.05204452568454697\n",
      "Reason(s) for Halting:\n",
      "  Sum of squares convergence\n"
     ]
    },
    {
     "data": {
      "image/png": "[encoded data removed]",
      "text/plain": [
       "<Figure size 432x288 with 1 Axes>"
      ]
     },
     "metadata": {},
     "output_type": "display_data"
    }
   ],
   "source": [
    "mags = np.array(mags)\n",
    "Vmag = [15.758,16.402,13.119,15.872,13.806,10.272,12.923,14.323,11.868,14.98]\n",
    "Vmag = np.array(Vmag)\n",
    "Vmagerrors = [0.036,0.054,0.037,0.041,0.057,0.041,0.049,0.063,0.058,0.066]\n",
    "\n",
    "\n",
    "rprime = [15.226,15.971,12.940,15.474,13.608,10.316,12.843,13.891,11.167,14.691]\n",
    "rprimeerror = [0.13,0.15,0.026,0.068,0.046,0.033,0.027,0.041,0.033,0.071]\n",
    "\n",
    "iprime = [14.84,15.842,12.726,15.178,13.39,10.326,12.771,13.502,10.349,14.299]\n",
    "iprimeerror = [0.09,0.15,0.026,0.052,0.15,0.074,0.054,0.067,0.07,0.062,0.043]\n",
    "\n",
    "Imag = []\n",
    "Imagerror = []\n",
    "for rp, ip, rperror, iperror in zip(rprime,iprime,rprimeerror,iprimeerror):\n",
    "    r = rp +0.035*(rp-ip-0.21)\n",
    "    rdrp = 1.035\n",
    "    rdip = -0.035\n",
    "    rerror = np.sqrt((rdrp**2)*rperror**2+(rdip**2)*iperror**2)\n",
    "    \n",
    "    i = ip + 0.041*(rp-ip-0.21)\n",
    "    idrp = 0.041\n",
    "    idip = 0.959\n",
    "    ierror = np.sqrt((idrp**2)*rperror**2+(idip**2)*iperror**2)\n",
    "    \n",
    "   \n",
    "    I = r-1.2444*(r-i)-0.382\n",
    "    dr = -0.2444\n",
    "    di = -1.2444\n",
    "    Ierror = np.sqrt((dr**2)*(rerror**2)+(di**2)*(ierror**2))\n",
    "    \n",
    "    Imag.append(I)\n",
    "    Imagerror.append(Ierror)\n",
    "Imag = np.array(Imag)\n",
    "Imagerror = np.array(Imagerror)\n",
    "\n",
    "\n",
    "\n",
    "plt.errorbar(Imag,mags,xerr=Imagerror,yerr=magserrors,fmt='o')\n",
    "plt.ylabel('Instrumental Magnitude')\n",
    "plt.xlabel('Real Magnitude')\n",
    "\n",
    "def func(p, x):\n",
    "    m, c = p\n",
    "    return m*x + c\n",
    "mydata = odr.RealData(Imag, mags, sx = Imagerror, sy = None)\n",
    "linear = odr.Model(func)\n",
    "myodr = odr.ODR(mydata, linear,beta0 =[1, -23])\n",
    "myoutput = myodr.run()\n",
    "y = myoutput.beta[0]*Imag+myoutput.beta[1]\n",
    "plt.plot(Imag,y)\n",
    "myoutput.pprint()"
   ]
  },
  {
   "cell_type": "code",
   "execution_count": 24,
   "metadata": {},
   "outputs": [
    {
     "name": "stdout",
     "output_type": "stream",
     "text": [
      " id xcentroid ycentroid sharpness  ... sky    peak      flux       mag    \n",
      "--- --------- --------- ---------- ... --- --------- --------- -----------\n",
      "494 69.779967 645.22753 0.79326549 ...   0 14.791244 1.6145089 -0.52010109\n",
      "274 401.73333 369.90122 0.66121361 ...   0   56893.8 6404.4924  -9.5162118\n",
      "283 393.48987 378.55575 0.33146587 ...   0 43.893805 1.4391053 -0.39523142\n"
     ]
    }
   ],
   "source": [
    "xref = 402\n",
    "yref = 371\n",
    "\n",
    "mean, median, std = sigma_clipped_stats(image, sigma=5)\n",
    "daofind = DAOStarFinder(fwhm=5.0, threshold=3*std) \n",
    "sources = daofind(image - median)\n",
    "for col in sources.colnames: \n",
    "    sources[col].info.format = '%.8g'\n",
    "for k,l,m in zip(sources['xcentroid'],sources['ycentroid'],sources['id']):\n",
    "    if -10<(k-xref)<10 and -10<(l-yref)<10:\n",
    "        n = m-1\n",
    "        ID.append(n)\n",
    "print(sources[ID])"
   ]
  },
  {
   "cell_type": "code",
   "execution_count": 25,
   "metadata": {},
   "outputs": [
    {
     "name": "stdout",
     "output_type": "stream",
     "text": [
      "[-14.333293692460309]\n"
     ]
    }
   ],
   "source": [
    "sourcemag = []\n",
    "sourcemagerror = []\n",
    "position = [(401.73333,369.90122)]\n",
    "aperture = CircularAperture(position[0], r=3) \n",
    "annulus_aperture = CircularAnnulus(position[0], r_in=12., r_out=15.)\n",
    "apers = [aperture, annulus_aperture]\n",
    "phot_table = aperture_photometry(image, apers)\n",
    "for col in phot_table.colnames:\n",
    "    phot_table[col].info.format = '%.8g'\n",
    "bkg_mean = phot_table['aperture_sum_1'] / annulus_aperture.area\n",
    "bkg_total = bkg_mean * aperture.area\n",
    "net_star = phot_table['aperture_sum_0'] - bkg_total\n",
    "sourcemag.append(-2.5*np.log10(phot_table['aperture_sum_0'][0]))\n",
    "sourcemagerror.append((-1.08574/phot_table['aperture_sum_0'][0])*np.sqrt(phot_table['aperture_sum_0'][0]))\n",
    "print(sourcemag)"
   ]
  },
  {
   "cell_type": "code",
   "execution_count": 26,
   "metadata": {},
   "outputs": [
    {
     "name": "stdout",
     "output_type": "stream",
     "text": [
      "7.853830312940409 +/- 0.7488080390248498\n"
     ]
    }
   ],
   "source": [
    "dy = 1/myoutput.beta[0]\n",
    "dc = -1/myoutput.beta[0]\n",
    "dm = (myoutput.beta[1]-sourcemag[0])/(myoutput.beta[0])**2\n",
    "error = np.sqrt((dy**2)*sourcemagerror[0]**2+(dc**2)*(myoutput.sd_beta[1])**2+(dm**2)*(myoutput.sd_beta[0])**2)\n",
    "print((sourcemag[0]-myoutput.beta[1])/myoutput.beta[0],'+/-',error)"
   ]
  },
  {
   "cell_type": "code",
   "execution_count": null,
   "metadata": {},
   "outputs": [],
   "source": []
  }
 ],
 "metadata": {
  "kernelspec": {
   "display_name": "Python 3",
   "language": "python",
   "name": "python3"
  },
  "language_info": {
   "codemirror_mode": {
    "name": "ipython",
    "version": 3
   },
   "file_extension": ".py",
   "mimetype": "text/x-python",
   "name": "python",
   "nbconvert_exporter": "python",
   "pygments_lexer": "ipython3",
   "version": "3.7.6"
  }
 },
 "nbformat": 4,
 "nbformat_minor": 4
}
