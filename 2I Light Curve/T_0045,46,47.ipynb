{
 "cells": [
  {
   "cell_type": "code",
   "execution_count": 1,
   "metadata": {},
   "outputs": [],
   "source": [
    "%matplotlib inline\n",
    "from astropy.stats import sigma_clipped_stats\n",
    "from photutils import CircularAperture, aperture_photometry, CircularAnnulus, DAOStarFinder\n",
    "import astropy.io.fits as pf\n",
    "import numpy as np\n",
    "import seaborn as sns\n",
    "sns.set()\n",
    "from astropy.visualization import SqrtStretch\n",
    "from astropy.visualization.mpl_normalize import ImageNormalize\n",
    "from astropy.wcs import WCS\n",
    "from matplotlib import pyplot as plt\n",
    "import os\n",
    "from scipy import stats\n",
    "from scipy.optimize import curve_fit\n",
    "from scipy import odr\n",
    "import warnings\n",
    "warnings.filterwarnings('ignore')"
   ]
  },
  {
   "cell_type": "code",
   "execution_count": 2,
   "metadata": {},
   "outputs": [
    {
     "name": "stdout",
     "output_type": "stream",
     "text": [
      "<SkyCoord (FK5: equinox=2000.0): (ra, dec) in deg\n",
      "    (82.20490045, 42.46709412)>\n"
     ]
    }
   ],
   "source": [
    "os.chdir(r'C:\\Users\\garyc\\Desktop\\4th Year\\Astro Project')\n",
    "file = 'wcsT_0045.fits'\n",
    "image = pf.open(file)\n",
    "w = WCS(image[0].header)\n",
    "sky = w.pixel_to_world(403,370)\n",
    "print(sky)"
   ]
  },
  {
   "cell_type": "code",
   "execution_count": 44,
   "metadata": {},
   "outputs": [
    {
     "name": "stdout",
     "output_type": "stream",
     "text": [
      "[ 860.36447212 1208.0859945   799.18433326  460.77064577  597.74337146\n",
      "  506.31843978 1178.72015786 1254.3820183  1331.00890142 1069.98872281]\n",
      "[ 574.99851134  545.52963875  236.34072868  881.28246324  217.59860406\n",
      "  709.11653905  239.74300503  677.87985984  910.97432505 1055.70553101]\n",
      " id xcentroid ycentroid sharpness  ... sky    peak      flux      mag    \n",
      "--- --------- --------- ---------- ... --- --------- --------- ----------\n",
      "576 860.05218  570.7468 0.48184176 ...   0 41.473563 4.9160607 -1.7290431\n",
      " id xcentroid ycentroid sharpness  ... sky    peak      flux      mag    \n",
      "--- --------- --------- ---------- ... --- --------- --------- ----------\n",
      "549 1205.3172 541.48435 0.47346803 ...   0 28.498433 3.9964136 -1.5041761\n",
      "551 1210.5149 541.86291 0.45797603 ...   0 20.695563 3.0875614  -1.224039\n",
      " id xcentroid ycentroid sharpness  ... sky    peak      flux      mag    \n",
      "--- --------- --------- ---------- ... --- --------- --------- ----------\n",
      "235 796.89307 237.35846 0.52238149 ...   0 510.26236 74.456965 -4.6797633\n",
      "238 801.73261 237.43268 0.50280111 ...   0 287.42029 35.497434 -3.8754924\n",
      " id xcentroid ycentroid sharpness roundness1 roundness2 npix sky peak flux mag\n",
      "--- --------- --------- --------- ---------- ---------- ---- --- ---- ---- ---\n",
      " id xcentroid ycentroid sharpness  ... sky    peak      flux      mag    \n",
      "--- --------- --------- ---------- ... --- --------- --------- ----------\n",
      "215 595.02252 219.04165 0.37852071 ...   0 223.47232 36.000797 -3.8907803\n",
      "218  599.3069 219.50788 0.42456447 ...   0 145.14677 19.200958 -3.2083072\n",
      " id xcentroid ycentroid sharpness  ... sky    peak      flux      mag    \n",
      "--- --------- --------- ---------- ... --- --------- --------- ----------\n",
      "715 501.80011 710.55535 0.37546585 ...   0 3540.2375 541.18128 -6.8333569\n",
      "717 506.82634  710.9361 0.51673134 ...   0 2283.8116 277.74626 -6.1091205\n",
      " id xcentroid ycentroid sharpness  ... sky    peak      flux      mag    \n",
      "--- --------- --------- ---------- ... --- --------- --------- ----------\n",
      "240 1175.4537 240.45903  0.4082312 ...   0 365.79858 56.778323 -4.3854564\n",
      "244 1181.3183 240.56645 0.48150339 ...   0 272.12456 38.844626 -3.9733274\n",
      " id xcentroid ycentroid sharpness  ... sky    peak      flux      mag    \n",
      "--- --------- --------- ---------- ... --- --------- --------- ----------\n",
      "675 1250.9822 676.61203 0.53562626 ...   0 239.58118 36.246486 -3.8981648\n",
      "679 1257.0123 677.44475 0.57806004 ...   0 160.34892 21.356725 -3.3238366\n",
      " id xcentroid ycentroid sharpness  ... sky    peak      flux      mag    \n",
      "--- --------- --------- ---------- ... --- --------- --------- ----------\n",
      "897 1326.9556 909.97414 0.63939885 ...   0 5432.3788 796.50992  -7.252978\n",
      "901 1333.4642 911.54136 0.60719176 ...   0  3704.648  518.5363 -6.7869479\n",
      " id  xcentroid ycentroid sharpness  ... sky    peak      flux      mag    \n",
      "---- --------- --------- ---------- ... --- --------- --------- ----------\n",
      "1032 1065.5468 1055.6227 0.40965515 ...   0 89.166257 15.463814 -2.9732915\n",
      "1037 1072.0093 1056.6547 0.47419711 ...   0 60.094612 8.6354886 -2.3407173\n"
     ]
    }
   ],
   "source": [
    "x = [82.150936,82.110034,82.158453,82.197666,82.182192,82.192476,82.113757,82.104471,82.095256,82.125836]\n",
    "y = [42.449436,42.452321,42.478781,42.42245,42.480211,42.437444,42.478844,42.440872,42.420703,42.407897]\n",
    "a = []\n",
    "b = []\n",
    "for i,j in zip(x,y):\n",
    "    px, py = w.wcs_world2pix(i,j, 1)\n",
    "    a.append(px)\n",
    "    b.append(py)\n",
    "    #print('{0} {1}'.format(px, py))\n",
    "    \n",
    "os.chdir(r'C:\\Users\\garyc\\Desktop\\4th Year\\Astro Project\\2I Reduced\\1500 1500 files')\n",
    "file = 'reduceducdT_0047.fits'\n",
    "image = pf.getdata(file)\n",
    "#file2 = 'reduceducdT_0046.fits'\n",
    "#image2 = pf.getdata(file2)\n",
    "#file3 = 'reduceducdT_0047.fits'\n",
    "#image3 = pf.getdata(file3)\n",
    "#image = image1+image2+image3\n",
    "a = np.array(a)\n",
    "b = np.array(b)\n",
    "a = a\n",
    "b = b\n",
    "print(a)\n",
    "print(b)\n",
    "mean, median, std = sigma_clipped_stats(image, sigma=3)\n",
    "daofind = DAOStarFinder(fwhm=5.0, threshold=3*std) \n",
    "sources = daofind(image - median)\n",
    "for col in sources.colnames: \n",
    "    sources[col].info.format = '%.8g'\n",
    "\n",
    "positions = []\n",
    "for i,j in zip(a,b):\n",
    "    ID = []\n",
    "    xref = i\n",
    "    yref = j\n",
    "    for k,l,m in zip(sources['xcentroid'],sources['ycentroid'],sources['id']):\n",
    "        if -5<(k-xref)<5 and -5<(l-yref)<5:\n",
    "            n = m-1\n",
    "            ID.append(n)\n",
    "            positions.append((k,l))\n",
    "    print(sources[ID])"
   ]
  },
  {
   "cell_type": "code",
   "execution_count": 45,
   "metadata": {},
   "outputs": [],
   "source": [
    "positions = [(855.58554,571.34635),(1205.1101,542.66954),(802.99456,235.68198),(457.08106,879.45579),\n",
    "            (600.8771,217.30672),(508.25504,708.75563),(1177.0194,238.16162),(1252.1783,674.31751),(1327.1299,911.72766),\n",
    "            (1067.0627,1053.4407)]"
   ]
  },
  {
   "cell_type": "code",
   "execution_count": 46,
   "metadata": {},
   "outputs": [],
   "source": [
    "mags = []\n",
    "magserrors = []\n",
    "for i in positions:\n",
    "    aperture = CircularAperture(i, r=10) \n",
    "    annulus_aperture = CircularAnnulus(i, r_in=17., r_out=20.)\n",
    "    apers = [aperture, annulus_aperture]\n",
    "    phot_table = aperture_photometry(image, apers)\n",
    "    for col in phot_table.colnames:\n",
    "        phot_table[col].info.format = '%.8g'\n",
    "    bkg_mean = phot_table['aperture_sum_1'] / annulus_aperture.area\n",
    "    bkg_total = bkg_mean * aperture.area\n",
    "    net_star = phot_table['aperture_sum_0'] - bkg_total\n",
    "    mags.append(-2.5*np.log10(phot_table['aperture_sum_0'][0]))\n",
    "    dfdx = -1.08574/phot_table['aperture_sum_0'][0]\n",
    "    error = np.sqrt((dfdx**2)*(np.sqrt(phot_table['aperture_sum_0'][0]))**2)\n",
    "    magserrors.append(error)"
   ]
  },
  {
   "cell_type": "code",
   "execution_count": 47,
   "metadata": {},
   "outputs": [
    {
     "name": "stdout",
     "output_type": "stream",
     "text": [
      "Beta: [  0.82831732 -21.66413932]\n",
      "Beta Std Error: [0.04227289 0.54912872]\n",
      "Beta Covariance: [[ 0.03171506 -0.40808387]\n",
      " [-0.40808387  5.35167816]]\n",
      "Residual Variance: 0.05634538283200589\n",
      "Inverse Condition #: 0.052042520992554124\n",
      "Reason(s) for Halting:\n",
      "  Sum of squares convergence\n"
     ]
    },
    {
     "data": {
      "image/png": "[encoded data removed]",
      "text/plain": [
       "<Figure size 432x288 with 1 Axes>"
      ]
     },
     "metadata": {},
     "output_type": "display_data"
    }
   ],
   "source": [
    "mags = np.array(mags)\n",
    "Vmag = [15.758,16.402,13.119,15.872,13.806,10.272,12.923,14.323,11.868,14.98]\n",
    "Vmag = np.array(Vmag)\n",
    "Vmagerrors = [0.036,0.054,0.037,0.041,0.057,0.041,0.049,0.063,0.058,0.066]\n",
    "\n",
    "\n",
    "rprime = [15.226,15.971,12.940,15.474,13.608,10.316,12.843,13.891,11.167,14.691]\n",
    "rprimeerror = [0.13,0.15,0.026,0.068,0.046,0.033,0.027,0.041,0.033,0.071]\n",
    "\n",
    "iprime = [14.84,15.842,12.726,15.178,13.39,10.326,12.771,13.502,10.349,14.299]\n",
    "iprimeerror = [0.09,0.15,0.026,0.052,0.15,0.074,0.054,0.067,0.07,0.062,0.043]\n",
    "\n",
    "Imag = []\n",
    "Imagerror = []\n",
    "for rp, ip, rperror, iperror in zip(rprime,iprime,rprimeerror,iprimeerror):\n",
    "    r = rp +0.035*(rp-ip-0.21)\n",
    "    rdrp = 1.035\n",
    "    rdip = -0.035\n",
    "    rerror = np.sqrt((rdrp**2)*rperror**2+(rdip**2)*iperror**2)\n",
    "    \n",
    "    i = ip + 0.041*(rp-ip-0.21)\n",
    "    idrp = 0.041\n",
    "    idip = 0.959\n",
    "    ierror = np.sqrt((idrp**2)*rperror**2+(idip**2)*iperror**2)\n",
    "    \n",
    "   \n",
    "    I = r-1.2444*(r-i)-0.382\n",
    "    dr = -0.2444\n",
    "    di = -1.2444\n",
    "    Ierror = np.sqrt((dr**2)*(rerror**2)+(di**2)*(ierror**2))\n",
    "    \n",
    "    Imag.append(I)\n",
    "    Imagerror.append(Ierror)\n",
    "Imag = np.array(Imag)\n",
    "Imagerror = np.array(Imagerror)\n",
    "\n",
    "\n",
    "\n",
    "plt.errorbar(Imag,mags,xerr=Imagerror,yerr=magserrors,fmt='o')\n",
    "plt.ylabel('Instrumental Magnitude')\n",
    "plt.xlabel('Real Magnitude')\n",
    "\n",
    "def func(p, x):\n",
    "    m, c = p\n",
    "    return m*x + c\n",
    "mydata = odr.RealData(Imag, mags, sx = Imagerror, sy = None)\n",
    "linear = odr.Model(func)\n",
    "myodr = odr.ODR(mydata, linear,beta0 =[1, -23])\n",
    "myoutput = myodr.run()\n",
    "y = myoutput.beta[0]*Imag+myoutput.beta[1]\n",
    "plt.plot(Imag,y)\n",
    "myoutput.pprint()"
   ]
  },
  {
   "cell_type": "code",
   "execution_count": 48,
   "metadata": {},
   "outputs": [
    {
     "name": "stdout",
     "output_type": "stream",
     "text": [
      " id xcentroid ycentroid sharpness  ... sky    peak      flux      mag    \n",
      "--- --------- --------- ---------- ... --- --------- --------- ----------\n",
      "484 749.90108 709.59804 0.43428412 ...   0 14637.147 1966.6493 -8.2343173\n",
      "486 754.93491 709.86821 0.54874512 ...   0 9539.4932 1103.5368 -7.6069671\n"
     ]
    }
   ],
   "source": [
    "xref = 755\n",
    "yref = 708\n",
    "\n",
    "mean, median, std = sigma_clipped_stats(image, sigma=5)\n",
    "daofind = DAOStarFinder(fwhm=5.0, threshold=3*std) \n",
    "sources = daofind(image - median)\n",
    "ID = []\n",
    "for col in sources.colnames: \n",
    "    sources[col].info.format = '%.8g'\n",
    "for k,l,m in zip(sources['xcentroid'],sources['ycentroid'],sources['id']):\n",
    "    if -10<(k-xref)<10 and -10<(l-yref)<10:\n",
    "        n = m-1\n",
    "        ID.append(n)\n",
    "print(sources[ID])"
   ]
  },
  {
   "cell_type": "code",
   "execution_count": 49,
   "metadata": {},
   "outputs": [
    {
     "name": "stdout",
     "output_type": "stream",
     "text": [
      "[-15.053060357251734]\n"
     ]
    }
   ],
   "source": [
    "sourcemag = []\n",
    "sourcemagerror = []\n",
    "position = [(750.03392,710.41312)]\n",
    "aperture = CircularAperture(position[0], r=10) \n",
    "annulus_aperture = CircularAnnulus(position[0], r_in=17., r_out=20.)\n",
    "apers = [aperture, annulus_aperture]\n",
    "phot_table = aperture_photometry(image, apers)\n",
    "for col in phot_table.colnames:\n",
    "    phot_table[col].info.format = '%.8g'\n",
    "bkg_mean = phot_table['aperture_sum_1'] / annulus_aperture.area\n",
    "bkg_total = bkg_mean * aperture.area\n",
    "net_star = phot_table['aperture_sum_0'] - bkg_total\n",
    "sourcemag.append(-2.5*np.log10(phot_table['aperture_sum_0'][0]))\n",
    "sourcemagerror.append((-1.08574/phot_table['aperture_sum_0'][0])*np.sqrt(phot_table['aperture_sum_0'][0]))\n",
    "print(sourcemag)"
   ]
  },
  {
   "cell_type": "code",
   "execution_count": 50,
   "metadata": {},
   "outputs": [
    {
     "name": "stdout",
     "output_type": "stream",
     "text": [
      "7.981336107482777 +/- 0.7780816077473587\n"
     ]
    }
   ],
   "source": [
    "dy = 1/myoutput.beta[0]\n",
    "dc = -1/myoutput.beta[0]\n",
    "dm = (myoutput.beta[1]-sourcemag[0])/(myoutput.beta[0])**2\n",
    "error = np.sqrt((dy**2)*sourcemagerror[0]**2+(dc**2)*(myoutput.sd_beta[1])**2+(dm**2)*(myoutput.sd_beta[0])**2)\n",
    "print((sourcemag[0]-myoutput.beta[1])/myoutput.beta[0],'+/-',error)"
   ]
  },
  {
   "cell_type": "code",
   "execution_count": null,
   "metadata": {},
   "outputs": [],
   "source": []
  }
 ],
 "metadata": {
  "kernelspec": {
   "display_name": "Python 3",
   "language": "python",
   "name": "python3"
  },
  "language_info": {
   "codemirror_mode": {
    "name": "ipython",
    "version": 3
   },
   "file_extension": ".py",
   "mimetype": "text/x-python",
   "name": "python",
   "nbconvert_exporter": "python",
   "pygments_lexer": "ipython3",
   "version": "3.7.6"
  }
 },
 "nbformat": 4,
 "nbformat_minor": 4
}
