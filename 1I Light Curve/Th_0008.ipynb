{
 "cells": [
  {
   "cell_type": "code",
   "execution_count": 1,
   "metadata": {},
   "outputs": [],
   "source": [
    "%matplotlib inline\n",
    "from astropy.stats import sigma_clipped_stats\n",
    "from photutils import CircularAperture, aperture_photometry, CircularAnnulus, DAOStarFinder\n",
    "import astropy.io.fits as pf\n",
    "import numpy as np\n",
    "import seaborn as sns\n",
    "sns.set()\n",
    "from astropy.visualization import SqrtStretch\n",
    "from astropy.visualization.mpl_normalize import ImageNormalize\n",
    "from astropy.wcs import WCS\n",
    "from matplotlib import pyplot as plt\n",
    "import os\n",
    "from scipy import stats\n",
    "from scipy.optimize import curve_fit\n",
    "from scipy import odr"
   ]
  },
  {
   "cell_type": "code",
   "execution_count": 2,
   "metadata": {},
   "outputs": [
    {
     "name": "stdout",
     "output_type": "stream",
     "text": [
      "<SkyCoord (FK5: equinox=2000.0): (ra, dec) in deg\n",
      "    (101.83504179, 3.96152952)>\n"
     ]
    },
    {
     "name": "stderr",
     "output_type": "stream",
     "text": [
      "WARNING: FITSFixedWarning: The WCS transformation has more axes (2) than the image it is associated with (0) [astropy.wcs.wcs]\n"
     ]
    }
   ],
   "source": [
    "os.chdir(r'C:\\Users\\garyc\\Desktop\\4th Year\\Astro Project')\n",
    "file = 'wcsTh_0008.fits'\n",
    "image = pf.open(file)\n",
    "w = WCS(image[0].header)\n",
    "sky = w.pixel_to_world(378,374)\n",
    "print(sky)"
   ]
  },
  {
   "cell_type": "code",
   "execution_count": 3,
   "metadata": {},
   "outputs": [
    {
     "name": "stdout",
     "output_type": "stream",
     "text": [
      "[511.07697418 542.9636232  595.5372174  739.97076266 470.80754873\n",
      " 519.90948553 473.32886233 470.6324873  533.89494012 645.18655645]\n",
      "[303.1705548  367.74185851 209.25065305 487.60002736 295.2933896\n",
      " 504.43524288 232.31919431 462.73995551 552.08149898 119.89101345]\n",
      " id xcentroid ycentroid sharpness  ... sky    peak      flux      mag    \n",
      "--- --------- --------- ---------- ... --- --------- --------- ----------\n",
      "383  507.6578 302.65882 0.61725242 ...   0 64.470086 2.8923351 -1.1531215\n",
      " id xcentroid ycentroid sharpness  ... sky    peak      flux      mag    \n",
      "--- --------- --------- ---------- ... --- --------- --------- ----------\n",
      "456 540.05185 367.44374 0.62013571 ...   0 1260.2397 61.623113 -4.4743591\n",
      " id xcentroid ycentroid sharpness ... sky    peak      flux      mag    \n",
      "--- --------- --------- --------- ... --- --------- --------- ----------\n",
      "259 594.98736 208.65957 0.6194212 ...   0 1141.1058 55.909082 -4.3687059\n",
      " id xcentroid ycentroid sharpness  ... sky    peak     flux      mag    \n",
      "--- --------- --------- ---------- ... --- --------- -------- ----------\n",
      "625 738.36685 487.02768 0.70018148 ...   0 1685.9831 74.70151 -4.6833235\n",
      " id xcentroid ycentroid sharpness ... sky    peak      flux      mag    \n",
      "--- --------- --------- --------- ... --- --------- --------- ----------\n",
      "366 469.14114 294.19058 0.7142683 ...   0 1987.3522 89.185091 -4.8757306\n",
      " id xcentroid ycentroid sharpness  ... sky    peak      flux      mag    \n",
      "--- --------- --------- ---------- ... --- --------- --------- ----------\n",
      "653 519.02004  503.6687 0.68856351 ...   0 3140.0075 140.01449 -5.3654325\n",
      " id xcentroid ycentroid sharpness  ... sky    peak     flux     mag    \n",
      "--- --------- --------- ---------- ... --- --------- ------- ----------\n",
      "283 471.84358 231.20603 0.66873616 ...   0 1465.8272 68.6608 -4.5917721\n",
      " id xcentroid ycentroid sharpness  ... sky    peak      flux      mag    \n",
      "--- --------- --------- ---------- ... --- --------- --------- ----------\n",
      "596 471.32048 463.08671 0.78285345 ...   0 748.99482 31.310202 -3.7392147\n",
      " id xcentroid ycentroid sharpness  ... sky    peak      flux      mag   \n",
      "--- --------- --------- ---------- ... --- --------- --------- ---------\n",
      "716 531.50491 549.82923 0.57508886 ...   0 504.03448 26.159919 -3.544091\n",
      " id xcentroid ycentroid sharpness  ... sky    peak      flux      mag    \n",
      "--- --------- --------- ---------- ... --- --------- --------- ----------\n",
      "133 646.54894 120.27674 0.58959074 ...   0 797.51826 40.070376 -4.0070586\n"
     ]
    }
   ],
   "source": [
    "x = [101.812093,101.806429,101.797486,101.771853,101.819136,101.810250,101.818790,101.818916,101.807737,101.788950]\n",
    "y = [3.974229,3.963025,3.990697,3.942408,3.975548,3.939188,3.986519,3.946385,3.9309082,4.006325]\n",
    "a = []\n",
    "b = []\n",
    "for i,j in zip(x,y):\n",
    "    px, py = w.wcs_world2pix(i,j, 1)\n",
    "    a.append(px)\n",
    "    b.append(py)\n",
    "    #print('{0} {1}'.format(px, py))\n",
    "    \n",
    "os.chdir(r'C:\\Users\\garyc\\Desktop\\4th Year\\Astro Project\\1I Reduced')\n",
    "file = 'reduceducdTh_0008.fits'\n",
    "image = pf.getdata(file)\n",
    "\n",
    "a = np.array(a)\n",
    "b = np.array(b)\n",
    "a = a\n",
    "b = b\n",
    "print(a)\n",
    "print(b)\n",
    "mean, median, std = sigma_clipped_stats(image, sigma=3)\n",
    "daofind = DAOStarFinder(fwhm=4.0, threshold=3*std) \n",
    "sources = daofind(image - median)\n",
    "for col in sources.colnames: \n",
    "    sources[col].info.format = '%.8g'\n",
    "\n",
    "positions = []\n",
    "for i,j in zip(a,b):\n",
    "    ID = []\n",
    "    xref = i\n",
    "    yref = j\n",
    "    for k,l,m in zip(sources['xcentroid'],sources['ycentroid'],sources['id']):\n",
    "        if -5<(k-xref)<5 and -5<(l-yref)<5:\n",
    "            n = m-1\n",
    "            ID.append(n)\n",
    "            positions.append((k,l))\n",
    "    print(sources[ID])"
   ]
  },
  {
   "cell_type": "code",
   "execution_count": 9,
   "metadata": {},
   "outputs": [],
   "source": [
    "mags = []\n",
    "magserrors = []\n",
    "for i in positions:\n",
    "    aperture = CircularAperture(i, r=3) \n",
    "    annulus_aperture = CircularAnnulus(i, r_in=12., r_out=15.)\n",
    "    apers = [aperture, annulus_aperture]\n",
    "    phot_table = aperture_photometry(image, apers)\n",
    "    for col in phot_table.colnames:\n",
    "        phot_table[col].info.format = '%.8g'\n",
    "    bkg_mean = phot_table['aperture_sum_1'] / annulus_aperture.area\n",
    "    bkg_total = bkg_mean * aperture.area\n",
    "    net_star = phot_table['aperture_sum_0'] - bkg_total\n",
    "    mags.append(-2.5*np.log10(phot_table['aperture_sum_0'][0]))\n",
    "    dfdx = -1.08574/phot_table['aperture_sum_0'][0]\n",
    "    error = np.sqrt((dfdx**2)*(np.sqrt(phot_table['aperture_sum_0'][0]))**2)\n",
    "    magserrors.append(error)\n",
    "mags.remove(mags[0])\n",
    "magserrors.remove(magserrors[0])"
   ]
  },
  {
   "cell_type": "code",
   "execution_count": 20,
   "metadata": {},
   "outputs": [
    {
     "name": "stdout",
     "output_type": "stream",
     "text": [
      "[-10.129009070360349, -10.061888574257454, -10.281433359897429, -10.310473277496756, -10.807788071154285, -10.157706022690212, -9.688000246242584, -9.655419033634647, -9.890496868106158]\n"
     ]
    }
   ],
   "source": [
    "len(ma)"
   ]
  },
  {
   "cell_type": "code",
   "execution_count": 10,
   "metadata": {},
   "outputs": [
    {
     "name": "stdout",
     "output_type": "stream",
     "text": [
      "Beta: [  0.54745372 -17.57390657]\n",
      "Beta Std Error: [0.04001949 0.54620893]\n",
      "Beta Covariance: [[ 0.31346427 -4.27426144]\n",
      " [-4.27426144 58.3932446 ]]\n",
      "Residual Variance: 0.005109224546268736\n",
      "Inverse Condition #: 0.016524172790275363\n",
      "Reason(s) for Halting:\n",
      "  Sum of squares convergence\n"
     ]
    },
    {
     "data": {
      "image/png": "[encoded data removed]",
      "text/plain": [
       "<Figure size 432x288 with 1 Axes>"
      ]
     },
     "metadata": {},
     "output_type": "display_data"
    }
   ],
   "source": [
    "mags = np.array(mags)\n",
    "Vmag = [15.219,14.947,13.739,13.407,13.321,14.724,15.319,14.591,15.406]\n",
    "Vmag = np.array(Vmag)\n",
    "Vmagerrors = [0.078,0.061,0.037,0.027,0.037,0.06,0.082,0.039,0.069]\n",
    "\n",
    "rprime = [14.736,14.539,13.682,13.463,13.109,14.384,14.924,14.569,14.978]\n",
    "rprimeerror = [0.081,0.064,0.049,0.074,0.042,0.042,0.05,0.053,0.085]\n",
    "\n",
    "iprime = [14.19,14.201,13.66,13.542,12.909,13.969,14.978,14.633,14.516]\n",
    "iprimeerror = [0.054,0.009,0.0102,0.099,0.083,0.0106,0.082,0.071,0.02]\n",
    "\n",
    "Imag = []\n",
    "Imagerror = []\n",
    "for rp, ip, rperror, iperror in zip(rprime,iprime,rprimeerror,iprimeerror):\n",
    "    r = rp +0.035*(rp-ip-0.21)\n",
    "    rdrp = 1.035\n",
    "    rdip = -0.035\n",
    "    rerror = np.sqrt((rdrp**2)*rperror**2+(rdip**2)*iperror**2)\n",
    "    \n",
    "    i = ip + 0.041*(rp-ip-0.21)\n",
    "    idrp = 0.041\n",
    "    idip = 0.959\n",
    "    ierror = np.sqrt((idrp**2)*rperror**2+(idip**2)*iperror**2)\n",
    "    \n",
    "   \n",
    "    I = r-1.2444*(r-i)-0.382\n",
    "    dr = -0.2444\n",
    "    di = -1.2444\n",
    "    Ierror = np.sqrt((dr**2)*(rerror**2)+(di**2)*(ierror**2))\n",
    "    \n",
    "    Imag.append(I)\n",
    "    Imagerror.append(Ierror)\n",
    "Imag = np.array(Imag)\n",
    "Imagerror = np.array(Imagerror)\n",
    "\n",
    "\n",
    "\n",
    "plt.errorbar(Imag,mags,xerr=Imagerror,yerr=magserrors,fmt='o')\n",
    "plt.ylabel('Instrumental Magnitude')\n",
    "plt.xlabel('Real Magnitude')\n",
    "\n",
    "def func(p, x):\n",
    "    m, c = p\n",
    "    return m*x + c\n",
    "mydata = odr.RealData(Imag, mags, sx = Imagerror, sy = None)\n",
    "linear = odr.Model(func)\n",
    "myodr = odr.ODR(mydata, linear,beta0 =[1, -23])\n",
    "myoutput = myodr.run()\n",
    "y = myoutput.beta[0]*Imag+myoutput.beta[1]\n",
    "plt.plot(Imag,y)\n",
    "myoutput.pprint()"
   ]
  },
  {
   "cell_type": "code",
   "execution_count": 11,
   "metadata": {},
   "outputs": [
    {
     "name": "stdout",
     "output_type": "stream",
     "text": [
      " id xcentroid ycentroid sharpness  ... sky    peak      flux       mag    \n",
      "--- --------- --------- ---------- ... --- --------- --------- -----------\n",
      "133 281.40071  155.1914 0.78694382 ...   0 32.978923 2.1950293 -0.85360081\n",
      "289  640.7367 344.49264 0.82299144 ...   0 48868.391 2838.7035  -8.6328001\n"
     ]
    }
   ],
   "source": [
    "xref = 641\n",
    "yref = 345\n",
    "\n",
    "mean, median, std = sigma_clipped_stats(image, sigma=3)\n",
    "daofind = DAOStarFinder(fwhm=5.0, threshold=3*std) \n",
    "sources = daofind(image - median)\n",
    "for col in sources.colnames: \n",
    "    sources[col].info.format = '%.8g'\n",
    "for k,l,m in zip(sources['xcentroid'],sources['ycentroid'],sources['id']):\n",
    "    if -10<(k-xref)<10 and -10<(l-yref)<10:\n",
    "        n = m-1\n",
    "        ID.append(n)\n",
    "print(sources[ID])"
   ]
  },
  {
   "cell_type": "code",
   "execution_count": 14,
   "metadata": {},
   "outputs": [
    {
     "name": "stdout",
     "output_type": "stream",
     "text": [
      "[-13.719824570776257]\n"
     ]
    }
   ],
   "source": [
    "sourcemag = []\n",
    "sourcemagerror = []\n",
    "position = [(640.7367,344.49264)]\n",
    "aperture = CircularAperture(position[0], r=3) \n",
    "annulus_aperture = CircularAnnulus(position[0], r_in=12., r_out=15.)\n",
    "apers = [aperture, annulus_aperture]\n",
    "phot_table = aperture_photometry(image, apers)\n",
    "for col in phot_table.colnames:\n",
    "    phot_table[col].info.format = '%.8g'\n",
    "bkg_mean = phot_table['aperture_sum_1'] / annulus_aperture.area\n",
    "bkg_total = bkg_mean * aperture.area\n",
    "net_star = phot_table['aperture_sum_0'] - bkg_total\n",
    "sourcemag.append(-2.5*np.log10(phot_table['aperture_sum_0'][0]))\n",
    "sourcemagerror.append(np.sqrt(((-1.08574/phot_table['aperture_sum_0'][0])**2)*(np.sqrt(phot_table['aperture_sum_0'][0])**2)))\n",
    "print(sourcemag)"
   ]
  },
  {
   "cell_type": "code",
   "execution_count": 15,
   "metadata": {},
   "outputs": [
    {
     "name": "stdout",
     "output_type": "stream",
     "text": [
      "7.04001419919539 +/- 1.1226386430991173\n"
     ]
    }
   ],
   "source": [
    "dy = 1/myoutput.beta[0]\n",
    "dc = -1/myoutput.beta[0]\n",
    "dm = (myoutput.beta[1]-sourcemag[0])/(myoutput.beta[0])**2\n",
    "error = np.sqrt((dy**2)*sourcemagerror[0]**2+(dc**2)*(myoutput.sd_beta[1])**2+(dm**2)*(myoutput.sd_beta[0])**2)\n",
    "print((sourcemag[0]-myoutput.beta[1])/myoutput.beta[0],'+/-',error)"
   ]
  },
  {
   "cell_type": "code",
   "execution_count": null,
   "metadata": {},
   "outputs": [],
   "source": []
  }
 ],
 "metadata": {
  "kernelspec": {
   "display_name": "Python 3",
   "language": "python",
   "name": "python3"
  },
  "language_info": {
   "codemirror_mode": {
    "name": "ipython",
    "version": 3
   },
   "file_extension": ".py",
   "mimetype": "text/x-python",
   "name": "python",
   "nbconvert_exporter": "python",
   "pygments_lexer": "ipython3",
   "version": "3.7.6"
  }
 },
 "nbformat": 4,
 "nbformat_minor": 4
}
