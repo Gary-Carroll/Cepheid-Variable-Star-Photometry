{
 "cells": [
  {
   "cell_type": "code",
   "execution_count": 1,
   "metadata": {},
   "outputs": [],
   "source": [
    "%matplotlib inline\n",
    "from astropy.stats import sigma_clipped_stats\n",
    "from photutils import CircularAperture, aperture_photometry, CircularAnnulus, DAOStarFinder\n",
    "import astropy.io.fits as pf\n",
    "import numpy as np\n",
    "import seaborn as sns\n",
    "sns.set()\n",
    "from astropy.visualization import SqrtStretch\n",
    "from astropy.visualization.mpl_normalize import ImageNormalize\n",
    "from astropy.wcs import WCS\n",
    "from matplotlib import pyplot as plt\n",
    "import os\n",
    "from scipy import stats\n",
    "from scipy.optimize import curve_fit\n",
    "from scipy import odr"
   ]
  },
  {
   "cell_type": "code",
   "execution_count": 2,
   "metadata": {},
   "outputs": [
    {
     "name": "stdout",
     "output_type": "stream",
     "text": [
      "<SkyCoord (FK5: equinox=2000.0): (ra, dec) in deg\n",
      "    (82.22903249, 42.48136345)>\n"
     ]
    },
    {
     "name": "stderr",
     "output_type": "stream",
     "text": [
      "WARNING: FITSFixedWarning: The WCS transformation has more axes (2) than the image it is associated with (0) [astropy.wcs.wcs]\n"
     ]
    }
   ],
   "source": [
    "os.chdir(r'C:\\Users\\garyc\\Desktop\\4th Year\\Astro Project')\n",
    "file = 'wcsW_0039.fits'\n",
    "image = pf.open(file)\n",
    "w = WCS(image[0].header)\n",
    "sky = w.pixel_to_world(100,100)\n",
    "print(sky)"
   ]
  },
  {
   "cell_type": "code",
   "execution_count": 3,
   "metadata": {},
   "outputs": [
    {
     "name": "stdout",
     "output_type": "stream",
     "text": [
      "[430.65993929 604.47759895 400.02057929 230.95761752 299.31914392\n",
      " 253.69802966 589.74732968 627.64241293 665.98598592 535.52853178]\n",
      "[284.26939605 269.55421342 114.92750161 437.39686423 105.54428379\n",
      " 351.31171754 116.65064968 335.73569827 452.29387378 524.64845257]\n",
      " id xcentroid ycentroid sharpness  ... sky    peak      flux       mag    \n",
      "--- --------- --------- ---------- ... --- --------- --------- -----------\n",
      "263 430.16755 282.25787 0.66463726 ...   0 1063.3469 99.690089    -4.99663\n",
      "273  421.7021 291.59782 0.69678142 ...   0 9.1727587 1.0880343 -0.09160649\n",
      " id xcentroid ycentroid sharpness  ... sky    peak      flux      mag    \n",
      "--- --------- --------- ---------- ... --- --------- --------- ----------\n",
      "250 605.30578   267.928 0.52775732 ...   0 469.95445 51.263009 -4.2745102\n",
      " id xcentroid ycentroid sharpness  ... sky    peak      flux      mag    \n",
      "--- --------- --------- ---------- ... --- --------- --------- ----------\n",
      " 93 401.05372 115.86377 0.63980677 ...   0 10049.055 969.13949 -7.4659657\n",
      "103 401.29082 121.74124 0.50801342 ...   0 58.963107 4.4051269 -1.6098961\n",
      " id xcentroid ycentroid sharpness  ... sky    peak      flux      mag    \n",
      "--- --------- --------- ---------- ... --- --------- --------- ----------\n",
      "409 227.96014 437.51631 0.75002866 ...   0 1075.5494 91.343122 -4.9016896\n",
      " id xcentroid ycentroid sharpness  ... sky   peak      flux      mag    \n",
      "--- --------- --------- ---------- ... --- -------- --------- ----------\n",
      " 83 300.03703  106.8042 0.64506864 ...   0 5259.206 502.99973 -6.7539194\n",
      " id xcentroid ycentroid sharpness  ... sky    peak      flux      mag    \n",
      "--- --------- --------- ---------- ... --- --------- --------- ----------\n",
      "330 253.35149 352.22071 0.71797324 ...   0 112422.99 9311.2339 -9.9225181\n",
      " id xcentroid ycentroid sharpness  ... sky    peak      flux      mag   \n",
      "--- --------- --------- ---------- ... --- --------- --------- ---------\n",
      " 94 590.39078 117.31444 0.50747509 ...   0 9306.3788 1030.5276 -7.532649\n",
      " id xcentroid ycentroid sharpness  ... sky    peak      flux      mag    \n",
      "--- --------- --------- ---------- ... --- --------- --------- ----------\n",
      "313 628.24543 335.42342 0.65776263 ...   0 3584.1476 333.37723 -6.3073398\n",
      " id xcentroid ycentroid sharpness  ... sky    peak      flux      mag    \n",
      "--- --------- --------- ---------- ... --- --------- --------- ----------\n",
      "424 666.48418 452.13244 0.81445748 ...   0 59154.914 4751.8702 -9.1921614\n",
      " id xcentroid ycentroid sharpness  ... sky   peak      flux      mag    \n",
      "--- --------- --------- ---------- ... --- -------- --------- ----------\n",
      "494 535.64332 525.08436 0.64479732 ...   0 1889.683 178.14423 -5.6269294\n"
     ]
    }
   ],
   "source": [
    "x = [82.150936,82.110034,82.158453,82.197666,82.182192,82.192476,82.113757,82.104471,82.095256,82.125836]\n",
    "y = [42.449436,42.452321,42.478781,42.42245,42.480211,42.437444,42.478844,42.440872,42.420703,42.407897]\n",
    "a = []\n",
    "b = []\n",
    "for i,j in zip(x,y):\n",
    "    px, py = w.wcs_world2pix(i,j, 1)\n",
    "    a.append(px)\n",
    "    b.append(py)\n",
    "    #print('{0} {1}'.format(px, py))\n",
    "    \n",
    "os.chdir(r'C:\\Users\\garyc\\Desktop\\4th Year\\Astro Project\\2V Reduced')\n",
    "file1 = 'reduceducdW_0039.fits'\n",
    "image1 = pf.getdata(file1)\n",
    "file2 = 'reduceducdW_0041.fits'\n",
    "image2 = pf.getdata(file2)\n",
    "file3 = 'reduceducdW_0045.fits'\n",
    "image3 = pf.getdata(file3)\n",
    "file4 = 'reduceducdW_0048.fits'\n",
    "image4 = pf.getdata(file4)\n",
    "image = image2+image1+image3+image4\n",
    "\n",
    "a = np.array(a)\n",
    "b = np.array(b)\n",
    "a = a\n",
    "b = b\n",
    "print(a)\n",
    "print(b)\n",
    "mean, median, std = sigma_clipped_stats(image, sigma=3)\n",
    "daofind = DAOStarFinder(fwhm=5.0, threshold=3*std) \n",
    "sources = daofind(image - median)\n",
    "for col in sources.colnames: \n",
    "    sources[col].info.format = '%.8g'\n",
    "\n",
    "positions = []\n",
    "for i,j in zip(a,b):\n",
    "    ID = []\n",
    "    xref = i\n",
    "    yref = j\n",
    "    for k,l,m in zip(sources['xcentroid'],sources['ycentroid'],sources['id']):\n",
    "        if -10<(k-xref)<10 and -10<(l-yref)<10:\n",
    "            n = m-1\n",
    "            ID.append(n)\n",
    "            positions.append((k,l))\n",
    "    print(sources[ID])"
   ]
  },
  {
   "cell_type": "code",
   "execution_count": 4,
   "metadata": {},
   "outputs": [],
   "source": [
    "positions = [(430.16755,282.25787),(605.30578,267.928),(401.05372,115.86377),(227.96014,437.51631),\n",
    "             (300.03703,106.8042),(253.35149,352.22071),(590.39078,117.31444),(628.24543,335.42342),\n",
    "             (666.48418,452.13244),(535.64332,525.08436)]"
   ]
  },
  {
   "cell_type": "code",
   "execution_count": 5,
   "metadata": {},
   "outputs": [],
   "source": [
    "mags = []\n",
    "magserrors = []\n",
    "for i in positions:\n",
    "    aperture = CircularAperture(i, r=4) \n",
    "    annulus_aperture = CircularAnnulus(i, r_in=12., r_out=15.)\n",
    "    apers = [aperture, annulus_aperture]\n",
    "    phot_table = aperture_photometry(image, apers)\n",
    "    for col in phot_table.colnames:\n",
    "        phot_table[col].info.format = '%.8g'\n",
    "    bkg_mean = phot_table['aperture_sum_1'] / annulus_aperture.area\n",
    "    bkg_total = bkg_mean * aperture.area\n",
    "    net_star = phot_table['aperture_sum_0'] - bkg_total\n",
    "    mags.append(-2.5*np.log10(phot_table['aperture_sum_0'][0]))\n",
    "    dfdx = -1.08574/phot_table['aperture_sum_0'][0]\n",
    "    error = np.sqrt((dfdx**2)*(np.sqrt(phot_table['aperture_sum_0'][0]))**2)\n",
    "    magserrors.append(error)"
   ]
  },
  {
   "cell_type": "code",
   "execution_count": 6,
   "metadata": {},
   "outputs": [
    {
     "name": "stdout",
     "output_type": "stream",
     "text": [
      "[  0.89542067 -24.46454889]\n",
      "[[ 0.00244878 -0.02753072]\n",
      " [-0.02753072  0.31406311]]\n",
      "Beta: [  0.89758853 -24.40497569]\n",
      "Beta Std Error: [0.0286837  0.40135749]\n",
      "Beta Covariance: [[ 4.81599951e-05 -6.67307080e-04]\n",
      " [-6.67307080e-04  9.42928771e-03]]\n",
      "Residual Variance: 17.08377518912037\n",
      "Inverse Condition #: 0.05554001520219098\n",
      "Reason(s) for Halting:\n",
      "  Sum of squares convergence\n"
     ]
    },
    {
     "data": {
      "image/png": "[encoded data removed]",
      "text/plain": [
       "<Figure size 432x288 with 1 Axes>"
      ]
     },
     "metadata": {},
     "output_type": "display_data"
    }
   ],
   "source": [
    "mags = np.array(mags)\n",
    "realmag = [15.758,16.402,13.119,15.872,13.806,10.272,12.923,14.232,11.868,14.98]\n",
    "realmag = np.array(realmag)\n",
    "realmagerrors = [0.036,0.054,0.037,0.041,0.057,0.041,0.049,0.063,0.058,0.066]\n",
    "plt.errorbar(realmag,mags,magserrors,realmagerrors,fmt='.',color='k')\n",
    "plt.ylabel('Instrumental Magnitude')\n",
    "plt.xlabel('Real Magnitude')\n",
    "\n",
    "def f(x,m,c):\n",
    "    return m*x+c\n",
    "popt, pcov = curve_fit(f,realmag,mags,sigma=magserrors)\n",
    "print(popt)\n",
    "\n",
    "def func(p, x):\n",
    "    m, c = p\n",
    "    return m*x + c\n",
    "mydata = odr.RealData(realmag, mags, sx = realmagerrors, sy = magserrors)\n",
    "linear = odr.Model(func)\n",
    "myodr = odr.ODR(mydata, linear,beta0 =[1, -23])\n",
    "myoutput = myodr.run()\n",
    "y = myoutput.beta[0]*realmag+myoutput.beta[1]\n",
    "plt.plot(realmag,y)\n",
    "print(pcov)\n",
    "myoutput.pprint()"
   ]
  },
  {
   "cell_type": "code",
   "execution_count": 7,
   "metadata": {},
   "outputs": [
    {
     "name": "stdout",
     "output_type": "stream",
     "text": [
      " id xcentroid ycentroid sharpness  ... sky    peak      flux      mag    \n",
      "--- --------- --------- ---------- ... --- --------- --------- ----------\n",
      "494 535.64332 525.08436 0.64479732 ...   0  1889.683 178.14423 -5.6269294\n",
      "331 377.51904 351.76615 0.53531703 ...   0 133811.83 13356.412 -10.314224\n"
     ]
    }
   ],
   "source": [
    "xref = 379\n",
    "yref = 353\n",
    "\n",
    "mean, median, std = sigma_clipped_stats(image, sigma=3)\n",
    "daofind = DAOStarFinder(fwhm=5.0, threshold=3*std) \n",
    "sources = daofind(image - median)\n",
    "for col in sources.colnames: \n",
    "    sources[col].info.format = '%.8g'\n",
    "for k,l,m in zip(sources['xcentroid'],sources['ycentroid'],sources['id']):\n",
    "    if -10<(k-xref)<10 and -10<(l-yref)<10:\n",
    "        n = m-1\n",
    "        ID.append(n)\n",
    "print(sources[ID])"
   ]
  },
  {
   "cell_type": "code",
   "execution_count": 10,
   "metadata": {},
   "outputs": [
    {
     "name": "stdout",
     "output_type": "stream",
     "text": [
      "[-10.299334790124613]\n"
     ]
    }
   ],
   "source": [
    "sourcemag = []\n",
    "sourcemagerror = []\n",
    "position = [(430.16755,282.25787)]\n",
    "aperture = CircularAperture(position[0], r=4) \n",
    "annulus_aperture = CircularAnnulus(position[0], r_in=12., r_out=15.)\n",
    "apers = [aperture, annulus_aperture]\n",
    "phot_table = aperture_photometry(image, apers)\n",
    "for col in phot_table.colnames:\n",
    "    phot_table[col].info.format = '%.8g'\n",
    "bkg_mean = phot_table['aperture_sum_1'] / annulus_aperture.area\n",
    "bkg_total = bkg_mean * aperture.area\n",
    "net_star = phot_table['aperture_sum_0'] - bkg_total\n",
    "sourcemag.append(-2.5*np.log10(phot_table['aperture_sum_0'][0]))\n",
    "sourcemagerror.append((-1.08574/phot_table['aperture_sum_0'][0])*np.sqrt(phot_table['aperture_sum_0'][0]))\n",
    "print(sourcemag)"
   ]
  },
  {
   "cell_type": "code",
   "execution_count": 11,
   "metadata": {},
   "outputs": [
    {
     "name": "stdout",
     "output_type": "stream",
     "text": [
      "15.71504135618301 +/- 0.67249975637987\n"
     ]
    }
   ],
   "source": [
    "dy = 1/myoutput.beta[0]\n",
    "dc = -1/myoutput.beta[0]\n",
    "dm = (myoutput.beta[1]-sourcemag[0])/(myoutput.beta[0])**2\n",
    "error = np.sqrt((dy**2)*sourcemagerror[0]**2+(dc**2)*(myoutput.sd_beta[1])**2+(dm**2)*(myoutput.sd_beta[0])**2)\n",
    "print((sourcemag[0]-myoutput.beta[1])/myoutput.beta[0],'+/-',error)"
   ]
  },
  {
   "cell_type": "code",
   "execution_count": null,
   "metadata": {},
   "outputs": [],
   "source": []
  }
 ],
 "metadata": {
  "kernelspec": {
   "display_name": "Python 3",
   "language": "python",
   "name": "python3"
  },
  "language_info": {
   "codemirror_mode": {
    "name": "ipython",
    "version": 3
   },
   "file_extension": ".py",
   "mimetype": "text/x-python",
   "name": "python",
   "nbconvert_exporter": "python",
   "pygments_lexer": "ipython3",
   "version": "3.7.6"
  }
 },
 "nbformat": 4,
 "nbformat_minor": 4
}
