{
 "cells": [
  {
   "cell_type": "code",
   "execution_count": 1,
   "metadata": {},
   "outputs": [],
   "source": [
    "%matplotlib inline\n",
    "from astropy.stats import sigma_clipped_stats\n",
    "from photutils import CircularAperture, aperture_photometry, CircularAnnulus, DAOStarFinder\n",
    "import astropy.io.fits as pf\n",
    "import numpy as np\n",
    "import seaborn as sns\n",
    "sns.set()\n",
    "from astropy.visualization import SqrtStretch\n",
    "from astropy.visualization.mpl_normalize import ImageNormalize\n",
    "from astropy.wcs import WCS\n",
    "from matplotlib import pyplot as plt\n",
    "import os\n",
    "from scipy import stats\n",
    "from scipy.optimize import curve_fit\n",
    "from scipy import odr"
   ]
  },
  {
   "cell_type": "code",
   "execution_count": 2,
   "metadata": {},
   "outputs": [
    {
     "name": "stdout",
     "output_type": "stream",
     "text": [
      "<SkyCoord (FK5: equinox=2000.0): (ra, dec) in deg\n",
      "    (82.23699013, 42.49066314)>\n"
     ]
    },
    {
     "name": "stderr",
     "output_type": "stream",
     "text": [
      "WARNING: FITSFixedWarning: The WCS transformation has more axes (2) than the image it is associated with (0) [astropy.wcs.wcs]\n"
     ]
    }
   ],
   "source": [
    "os.chdir(r'C:\\Users\\garyc\\Desktop\\4th Year\\Astro Project')\n",
    "file = 'wcsW_0261.fits'\n",
    "image = pf.open(file)\n",
    "w = WCS(image[0].header)\n",
    "sky = w.pixel_to_world(100,100)\n",
    "print(sky)"
   ]
  },
  {
   "cell_type": "code",
   "execution_count": 3,
   "metadata": {},
   "outputs": [
    {
     "name": "stdout",
     "output_type": "stream",
     "text": [
      "[463.02497454 636.55844268 432.48393402 263.61094047 331.95222393\n",
      " 286.33780471 621.8954255  659.66630679 697.91366745 567.65227111]\n",
      "[341.11244655 326.01146032 172.39451466 494.24278468 163.29273018\n",
      " 408.3792328  173.63902691 391.92122831 508.0070285  580.45300136]\n",
      " id xcentroid ycentroid sharpness  ... sky    peak      flux       mag     \n",
      "--- --------- --------- ---------- ... --- --------- --------- ------------\n",
      "249 461.16258 337.03771 0.53014993 ...   0 122.39825 14.832077   -2.9280049\n",
      "256 454.02837 348.54499 0.89372017 ...   0 8.7840467 1.0459471 -0.048774349\n",
      " id xcentroid ycentroid sharpness  ... sky   peak      flux      mag    \n",
      "--- --------- --------- ---------- ... --- -------- --------- ----------\n",
      "241 636.26656 322.55466 0.60793862 ...   0 72.14853 7.6527392 -2.2095423\n",
      " id xcentroid ycentroid sharpness  ... sky    peak      flux      mag    \n",
      "--- --------- --------- ---------- ... --- --------- --------- ----------\n",
      "125 431.99854 170.50723 0.52843314 ...   0 1247.1952 148.40745 -5.4286393\n",
      " id xcentroid ycentroid sharpness  ... sky    peak      flux      mag    \n",
      "--- --------- --------- ---------- ... --- --------- --------- ----------\n",
      "374 258.84045 492.17191 0.51360001 ...   0 114.19977 13.806915 -2.8502417\n",
      " id xcentroid ycentroid sharpness ... sky    peak     flux      mag    \n",
      "--- --------- --------- --------- ... --- --------- -------- ----------\n",
      "119 331.00093 161.46776 0.4762515 ...   0 593.93278 74.45532 -4.6797393\n",
      " id xcentroid ycentroid sharpness ... sky    peak      flux      mag    \n",
      "--- --------- --------- --------- ... --- --------- --------- ----------\n",
      "304 284.54566 406.99498 0.5735043 ...   0 19407.504 2224.2059 -8.3679375\n",
      " id xcentroid ycentroid sharpness  ... sky    peak      flux      mag   \n",
      "--- --------- --------- ---------- ... --- --------- --------- ---------\n",
      "126  621.3938 171.86802 0.55228799 ...   0 1597.3958 187.17835 -5.680639\n",
      " id xcentroid ycentroid sharpness  ... sky    peak      flux      mag   \n",
      "--- --------- --------- ---------- ... --- --------- --------- ---------\n",
      "286 659.17684 390.09196 0.58516571 ...   0 479.44982 55.180595 -4.354466\n",
      " id xcentroid ycentroid sharpness  ... sky   peak      flux      mag    \n",
      "--- --------- --------- ---------- ... --- -------- --------- ----------\n",
      "388 697.29951 506.99933 0.61867489 ...   0 4628.213 512.39375 -6.7740096\n",
      " id xcentroid ycentroid sharpness  ... sky    peak      flux      mag    \n",
      "--- --------- --------- ---------- ... --- --------- --------- ----------\n",
      "442    566.43 579.62297 0.62485962 ...   0 283.05513 30.994495 -3.7282114\n"
     ]
    }
   ],
   "source": [
    "x = [82.150936,82.110034,82.158453,82.197666,82.182192,82.192476,82.113757,82.104471,82.095256,82.125836]\n",
    "y = [42.449436,42.452321,42.478781,42.42245,42.480211,42.437444,42.478844,42.440872,42.420703,42.407897]\n",
    "a = []\n",
    "b = []\n",
    "for i,j in zip(x,y):\n",
    "    px, py = w.wcs_world2pix(i,j, 1)\n",
    "    a.append(px)\n",
    "    b.append(py)\n",
    "    #print('{0} {1}'.format(px, py))\n",
    "    \n",
    "os.chdir(r'C:\\Users\\garyc\\Desktop\\4th Year\\Astro Project\\2V Reduced')\n",
    "file = 'reduceducdW_0261.fits'\n",
    "image = pf.getdata(file)\n",
    "\n",
    "a = np.array(a)\n",
    "b = np.array(b)\n",
    "a = a\n",
    "b = b\n",
    "print(a)\n",
    "print(b)\n",
    "mean, median, std = sigma_clipped_stats(image, sigma=3)\n",
    "daofind = DAOStarFinder(fwhm=5.0, threshold=3*std) \n",
    "sources = daofind(image - median)\n",
    "for col in sources.colnames: \n",
    "    sources[col].info.format = '%.8g'\n",
    "\n",
    "positions = []\n",
    "for i,j in zip(a,b):\n",
    "    ID = []\n",
    "    xref = i\n",
    "    yref = j\n",
    "    for k,l,m in zip(sources['xcentroid'],sources['ycentroid'],sources['id']):\n",
    "        if -10<(k-xref)<10 and -10<(l-yref)<10:\n",
    "            n = m-1\n",
    "            ID.append(n)\n",
    "            positions.append((k,l))\n",
    "    print(sources[ID])"
   ]
  },
  {
   "cell_type": "code",
   "execution_count": 4,
   "metadata": {},
   "outputs": [],
   "source": [
    "positions = [(461.16258,337.03771),(636.26656,322.55466),(431.99854,170.50723),(258.84045,492.17191),\n",
    "             (331.00093,161.46776),(284.54566,406.99498),(621.3938,171.86802),(659.17684,390.09196),\n",
    "             (697.29951,506.99933),(566.43,579.62297)]"
   ]
  },
  {
   "cell_type": "code",
   "execution_count": 5,
   "metadata": {},
   "outputs": [],
   "source": [
    "mags = []\n",
    "magserrors = []\n",
    "for i in positions:\n",
    "    aperture = CircularAperture(i, r=4) \n",
    "    annulus_aperture = CircularAnnulus(i, r_in=12., r_out=15.)\n",
    "    apers = [aperture, annulus_aperture]\n",
    "    phot_table = aperture_photometry(image, apers)\n",
    "    for col in phot_table.colnames:\n",
    "        phot_table[col].info.format = '%.8g'\n",
    "    bkg_mean = phot_table['aperture_sum_1'] / annulus_aperture.area\n",
    "    bkg_total = bkg_mean * aperture.area\n",
    "    net_star = phot_table['aperture_sum_0'] - bkg_total\n",
    "    mags.append(-2.5*np.log10(phot_table['aperture_sum_0'][0]))\n",
    "    dfdx = -1.08574/phot_table['aperture_sum_0'][0]\n",
    "    error = np.sqrt((dfdx**2)*(np.sqrt(phot_table['aperture_sum_0'][0]))**2)\n",
    "    magserrors.append(error)"
   ]
  },
  {
   "cell_type": "code",
   "execution_count": 6,
   "metadata": {},
   "outputs": [
    {
     "name": "stdout",
     "output_type": "stream",
     "text": [
      "[  0.88561495 -22.60662793]\n",
      "[[ 0.00116047 -0.01305261]\n",
      " [-0.01305261  0.1494957 ]]\n",
      "Beta: [  0.78317145 -21.32445076]\n",
      "Beta Std Error: [0.04346502 0.6038079 ]\n",
      "Beta Covariance: [[ 3.92923125e-05 -5.40376610e-04]\n",
      " [-5.40376610e-04  7.58272522e-03]]\n",
      "Residual Variance: 48.08086330710972\n",
      "Inverse Condition #: 0.056038440482136215\n",
      "Reason(s) for Halting:\n",
      "  Sum of squares convergence\n"
     ]
    },
    {
     "data": {
      "image/png": "[encoded data removed]",
      "text/plain": [
       "<Figure size 432x288 with 1 Axes>"
      ]
     },
     "metadata": {},
     "output_type": "display_data"
    }
   ],
   "source": [
    "mags = np.array(mags)\n",
    "realmag = [15.758,16.402,13.119,15.872,13.806,10.272,12.923,14.323,11.868,14.98]\n",
    "realmag = np.array(realmag)\n",
    "realmagerrors = [0.036,0.054,0.037,0.041,0.057,0.041,0.049,0.063,0.058,0.066]\n",
    "plt.errorbar(realmag,mags,magserrors,realmagerrors,fmt='.',color='k')\n",
    "plt.ylabel('Instrumental Magnitude')\n",
    "plt.xlabel('Real Magnitude')\n",
    "\n",
    "def f(x,m,c):\n",
    "    return m*x+c\n",
    "popt, pcov = curve_fit(f,realmag,mags,sigma=magserrors)\n",
    "print(popt)\n",
    "\n",
    "def func(p, x):\n",
    "    m, c = p\n",
    "    return m*x + c\n",
    "mydata = odr.RealData(realmag, mags, sx = realmagerrors, sy = magserrors)\n",
    "linear = odr.Model(func)\n",
    "myodr = odr.ODR(mydata, linear,beta0 =[1, -23])\n",
    "myoutput = myodr.run()\n",
    "y = myoutput.beta[0]*realmag+myoutput.beta[1]\n",
    "plt.plot(realmag,y)\n",
    "print(pcov)\n",
    "myoutput.pprint()"
   ]
  },
  {
   "cell_type": "code",
   "execution_count": 7,
   "metadata": {},
   "outputs": [
    {
     "name": "stdout",
     "output_type": "stream",
     "text": [
      " id xcentroid ycentroid sharpness  ... sky    peak      flux      mag    \n",
      "--- --------- --------- ---------- ... --- --------- --------- ----------\n",
      "442    566.43 579.62297 0.62485962 ...   0 283.05513 30.994495 -3.7282114\n",
      "305 408.44277 406.48294 0.51767738 ...   0 22683.276 2706.1721 -8.5808885\n"
     ]
    }
   ],
   "source": [
    "xref = 410\n",
    "yref = 406\n",
    "\n",
    "mean, median, std = sigma_clipped_stats(image, sigma=3)\n",
    "daofind = DAOStarFinder(fwhm=5.0, threshold=3*std) \n",
    "sources = daofind(image - median)\n",
    "for col in sources.colnames: \n",
    "    sources[col].info.format = '%.8g'\n",
    "for k,l,m in zip(sources['xcentroid'],sources['ycentroid'],sources['id']):\n",
    "    if -10<(k-xref)<10 and -10<(l-yref)<10:\n",
    "        n = m-1\n",
    "        ID.append(n)\n",
    "print(sources[ID])"
   ]
  },
  {
   "cell_type": "code",
   "execution_count": 8,
   "metadata": {},
   "outputs": [
    {
     "name": "stdout",
     "output_type": "stream",
     "text": [
      "[-13.69591956130575]\n"
     ]
    }
   ],
   "source": [
    "sourcemag = []\n",
    "sourcemagerror = []\n",
    "position = [(408.44277,406.48294)]\n",
    "aperture = CircularAperture(position[0], r=3) \n",
    "annulus_aperture = CircularAnnulus(position[0], r_in=12., r_out=15.)\n",
    "apers = [aperture, annulus_aperture]\n",
    "phot_table = aperture_photometry(image, apers)\n",
    "for col in phot_table.colnames:\n",
    "    phot_table[col].info.format = '%.8g'\n",
    "bkg_mean = phot_table['aperture_sum_1'] / annulus_aperture.area\n",
    "bkg_total = bkg_mean * aperture.area\n",
    "net_star = phot_table['aperture_sum_0'] - bkg_total\n",
    "sourcemag.append(-2.5*np.log10(phot_table['aperture_sum_0'][0]))\n",
    "sourcemagerror.append((-1.08574/phot_table['aperture_sum_0'][0])*np.sqrt(phot_table['aperture_sum_0'][0]))\n",
    "print(sourcemag)"
   ]
  },
  {
   "cell_type": "code",
   "execution_count": 9,
   "metadata": {},
   "outputs": [
    {
     "name": "stdout",
     "output_type": "stream",
     "text": [
      "9.740563472838323 +/- 0.941620809093688\n"
     ]
    }
   ],
   "source": [
    "dy = 1/myoutput.beta[0]\n",
    "dc = -1/myoutput.beta[0]\n",
    "dm = (myoutput.beta[1]-sourcemag[0])/(myoutput.beta[0])**2\n",
    "error = np.sqrt((dy**2)*sourcemagerror[0]**2+(dc**2)*(myoutput.sd_beta[1])**2+(dm**2)*(myoutput.sd_beta[0])**2)\n",
    "print((sourcemag[0]-myoutput.beta[1])/myoutput.beta[0],'+/-',error)"
   ]
  },
  {
   "cell_type": "code",
   "execution_count": null,
   "metadata": {},
   "outputs": [],
   "source": []
  }
 ],
 "metadata": {
  "kernelspec": {
   "display_name": "Python 3",
   "language": "python",
   "name": "python3"
  },
  "language_info": {
   "codemirror_mode": {
    "name": "ipython",
    "version": 3
   },
   "file_extension": ".py",
   "mimetype": "text/x-python",
   "name": "python",
   "nbconvert_exporter": "python",
   "pygments_lexer": "ipython3",
   "version": "3.7.6"
  }
 },
 "nbformat": 4,
 "nbformat_minor": 4
}
