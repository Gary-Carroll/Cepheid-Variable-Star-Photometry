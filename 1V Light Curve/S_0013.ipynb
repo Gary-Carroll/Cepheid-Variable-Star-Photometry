{
 "cells": [
  {
   "cell_type": "code",
   "execution_count": 1,
   "metadata": {},
   "outputs": [],
   "source": [
    "%matplotlib inline\n",
    "from astropy.stats import sigma_clipped_stats\n",
    "from photutils import CircularAperture, aperture_photometry, CircularAnnulus, DAOStarFinder\n",
    "import astropy.io.fits as pf\n",
    "import numpy as np\n",
    "import seaborn as sns\n",
    "sns.set()\n",
    "from astropy.visualization import SqrtStretch\n",
    "from astropy.visualization.mpl_normalize import ImageNormalize\n",
    "from astropy.wcs import WCS\n",
    "from matplotlib import pyplot as plt\n",
    "import os\n",
    "from scipy import stats\n",
    "from scipy.optimize import curve_fit\n",
    "from scipy import odr"
   ]
  },
  {
   "cell_type": "code",
   "execution_count": 2,
   "metadata": {},
   "outputs": [
    {
     "name": "stdout",
     "output_type": "stream",
     "text": [
      "<SkyCoord (FK5: equinox=2000.0): (ra, dec) in deg\n",
      "    (101.95184667, 4.11798284)>\n"
     ]
    },
    {
     "name": "stderr",
     "output_type": "stream",
     "text": [
      "WARNING: FITSFixedWarning: The WCS transformation has more axes (2) than the image it is associated with (0) [astropy.wcs.wcs]\n"
     ]
    }
   ],
   "source": [
    "os.chdir(r'C:\\Users\\garyc\\Desktop\\4th Year\\Astro Project')\n",
    "file = 'wcsS_0013.fits'\n",
    "image = pf.open(file)\n",
    "w = WCS(image[0].header)\n",
    "sky = w.pixel_to_world(100,100)\n",
    "print(sky)"
   ]
  },
  {
   "cell_type": "code",
   "execution_count": 3,
   "metadata": {},
   "outputs": [
    {
     "name": "stdout",
     "output_type": "stream",
     "text": [
      "[108.74521435 135.23621004 587.99563885 165.02491381 275.65557082\n",
      " 205.16741199 656.05015899 537.20492375 707.49809865 603.9082778 ]\n",
      "[563.24129091 666.9142302  547.69554602 486.34634146 511.61586111\n",
      " 497.69238126 114.52682425 137.55575868 202.09622587 377.35001212]\n",
      " id xcentroid ycentroid sharpness  ... sky    peak      flux      mag    \n",
      "--- --------- --------- ---------- ... --- --------- --------- ----------\n",
      "534 107.84281 562.50474 0.63737208 ...   0 358.94275 78.456715 -4.7365753\n",
      " id xcentroid ycentroid sharpness  ... sky    peak      flux      mag   \n",
      "--- --------- --------- ---------- ... --- --------- --------- ---------\n",
      "647  134.6428  665.7622 0.78051855 ...   0 313.33693 60.295711 -4.450716\n",
      " id xcentroid ycentroid sharpness  ... sky    peak      flux      mag   \n",
      "--- --------- --------- ---------- ... --- --------- --------- ---------\n",
      "522 583.20943 547.08925 0.73489339 ...   0 303.12838 60.717402 -4.458283\n",
      " id xcentroid ycentroid sharpness  ... sky    peak      flux      mag    \n",
      "--- --------- --------- ---------- ... --- --------- --------- ----------\n",
      "470 164.22102 484.64067 0.66204907 ...   0 537.80126 114.82701 -5.1501101\n",
      " id xcentroid ycentroid sharpness  ... sky    peak      flux      mag    \n",
      "--- --------- --------- ---------- ... --- --------- --------- ----------\n",
      "493 275.18367 510.50952 0.62886899 ...   0 1399.7966 303.71051 -6.2061495\n",
      " id xcentroid ycentroid sharpness  ... sky    peak      flux      mag    \n",
      "--- --------- --------- ---------- ... --- --------- --------- ----------\n",
      "482 204.00865 497.66294 0.63038988 ...   0 753.45825 167.43962 -5.5596456\n",
      " id xcentroid ycentroid sharpness  ... sky    peak      flux      mag    \n",
      "--- --------- --------- ---------- ... --- --------- --------- ----------\n",
      "114 655.89608 113.48231 0.71980284 ...   0 595.76437 119.81814 -5.1963065\n",
      " id xcentroid ycentroid sharpness  ... sky    peak      flux      mag    \n",
      "--- --------- --------- ---------- ... --- --------- --------- ----------\n",
      "135 536.09965 136.47293 0.69575157 ...   0 151.17662 31.106578 -3.7321306\n",
      " id xcentroid ycentroid sharpness ... sky    peak      flux      mag    \n",
      "--- --------- --------- --------- ... --- --------- --------- ----------\n",
      "195 706.98171 200.43961 0.7963675 ...   0 276.29692 51.941927 -4.2887951\n",
      " id xcentroid ycentroid sharpness  ... sky    peak      flux      mag    \n",
      "--- --------- --------- ---------- ... --- --------- --------- ----------\n",
      "357 603.20142 376.05992 0.75544479 ...   0 443.00076 87.174409 -4.8509725\n"
     ]
    }
   ],
   "source": [
    "x = [101.839311,101.834507,101.755641,101.829614,101.810250,101.822584,101.744490,101.765208,101.735356,101.753151]\n",
    "y = [03.929904,3.911874,3.933425,03.943406,3.939188,03.941496,04.009061,04.004846,3.993880,3.963151]\n",
    "a = []\n",
    "b = []\n",
    "for i,j in zip(x,y):\n",
    "    px, py = w.wcs_world2pix(i,j, 1)\n",
    "    a.append(px)\n",
    "    b.append(py)\n",
    "    #print('{0} {1}'.format(px, py))\n",
    "    \n",
    "os.chdir(r'C:\\Users\\garyc\\Desktop\\4th Year\\Astro Project\\1V Reduced')\n",
    "file = 'reduceducdS_0013.fits'\n",
    "image = pf.getdata(file)\n",
    "\n",
    "\n",
    "a = np.array(a)\n",
    "b = np.array(b)\n",
    "a = a-625\n",
    "b = b-625\n",
    "print(a)\n",
    "print(b)\n",
    "mean, median, std = sigma_clipped_stats(image, sigma=3)\n",
    "daofind = DAOStarFinder(fwhm=5.0, threshold=3*std) \n",
    "sources = daofind(image - median)\n",
    "for col in sources.colnames: \n",
    "    sources[col].info.format = '%.8g'\n",
    "\n",
    "positions = []\n",
    "for i,j in zip(a,b):\n",
    "    ID = []\n",
    "    xref = i\n",
    "    yref = j\n",
    "    for k,l,m in zip(sources['xcentroid'],sources['ycentroid'],sources['id']):\n",
    "        if -5<(k-xref)<5 and -5<(l-yref)<5:\n",
    "            n = m-1\n",
    "            ID.append(n)\n",
    "            positions.append((k,l))\n",
    "    print(sources[ID])"
   ]
  },
  {
   "cell_type": "code",
   "execution_count": 4,
   "metadata": {},
   "outputs": [],
   "source": [
    "mags = []\n",
    "magserrors = []\n",
    "for i in positions:\n",
    "    aperture = CircularAperture(i, r=3) \n",
    "    annulus_aperture = CircularAnnulus(i, r_in=12., r_out=15.)\n",
    "    apers = [aperture, annulus_aperture]\n",
    "    phot_table = aperture_photometry(image, apers)\n",
    "    for col in phot_table.colnames:\n",
    "        phot_table[col].info.format = '%.8g'\n",
    "    bkg_mean = phot_table['aperture_sum_1'] / annulus_aperture.area\n",
    "    bkg_total = bkg_mean * aperture.area\n",
    "    net_star = phot_table['aperture_sum_0'] - bkg_total\n",
    "    mags.append(-2.5*np.log10(phot_table['aperture_sum_0'][0]))\n",
    "    dfdx = -1.08574/phot_table['aperture_sum_0'][0]\n",
    "    error = np.sqrt((dfdx**2)*(np.sqrt(phot_table['aperture_sum_0'][0]))**2)\n",
    "    magserrors.append(error)"
   ]
  },
  {
   "cell_type": "code",
   "execution_count": 5,
   "metadata": {},
   "outputs": [
    {
     "name": "stdout",
     "output_type": "stream",
     "text": [
      "[  0.91510733 -22.61289572]\n",
      "[[ 0.00010462 -0.00149912]\n",
      " [-0.00149912  0.02154491]]\n",
      "Beta: [  0.91029788 -22.54234314]\n",
      "Beta Std Error: [0.01091366 0.16181829]\n",
      "Beta Covariance: [[ 0.00029438 -0.00436122]\n",
      " [-0.00436122  0.06471687]]\n",
      "Residual Variance: 0.4046109956547907\n",
      "Inverse Condition #: 0.016024545696112814\n",
      "Reason(s) for Halting:\n",
      "  Sum of squares convergence\n"
     ]
    },
    {
     "data": {
      "image/png": "[encoded data removed]",
      "text/plain": [
       "<Figure size 432x288 with 1 Axes>"
      ]
     },
     "metadata": {},
     "output_type": "display_data"
    }
   ],
   "source": [
    "mags = np.array(mags)\n",
    "realmag = [14.909,15.313,15.289,14.459,13.321,14.072,14.495,15.924,15.427,14.909]\n",
    "realmag = np.array(realmag)\n",
    "realmagerrors = [0.0032,0.0074,0.044,0.042,0.037,0.044,0.039,0.063,0.062,0.043]\n",
    "plt.errorbar(realmag,mags,magserrors,realmagerrors,fmt='.',color='k')\n",
    "plt.ylabel('Instrumental Magnitude')\n",
    "plt.xlabel('Real Magnitude')\n",
    "\n",
    "def f(x,m,c):\n",
    "    return m*x+c\n",
    "popt, pcov = curve_fit(f,realmag,mags,sigma=magserrors)\n",
    "print(popt)\n",
    "\n",
    "def func(p, x):\n",
    "    m, c = p\n",
    "    return m*x + c\n",
    "mydata = odr.RealData(realmag, mags, sx = realmagerrors, sy = magserrors)\n",
    "linear = odr.Model(func)\n",
    "myodr = odr.ODR(mydata, linear,beta0 =[1, -23])\n",
    "myoutput = myodr.run()\n",
    "y = myoutput.beta[0]*realmag+myoutput.beta[1]\n",
    "plt.plot(realmag,y)\n",
    "print(pcov)\n",
    "myoutput.pprint()"
   ]
  },
  {
   "cell_type": "code",
   "execution_count": 6,
   "metadata": {},
   "outputs": [
    {
     "name": "stdout",
     "output_type": "stream",
     "text": [
      " id xcentroid ycentroid sharpness  ... sky    peak      flux      mag    \n",
      "--- --------- --------- ---------- ... --- --------- --------- ----------\n",
      "357 603.20142 376.05992 0.75544479 ...   0 443.00076 87.174409 -4.8509725\n",
      "332 397.10945 351.28988 0.77061813 ...   0 27299.122 5275.7426  -9.305709\n"
     ]
    }
   ],
   "source": [
    "xref = 398\n",
    "yref = 352\n",
    "\n",
    "mean, median, std = sigma_clipped_stats(image, sigma=3)\n",
    "daofind = DAOStarFinder(fwhm=5.0, threshold=3*std) \n",
    "sources = daofind(image - median)\n",
    "for col in sources.colnames: \n",
    "    sources[col].info.format = '%.8g'\n",
    "for k,l,m in zip(sources['xcentroid'],sources['ycentroid'],sources['id']):\n",
    "    if -10<(k-xref)<10 and -10<(l-yref)<10:\n",
    "        n = m-1\n",
    "        ID.append(n)\n",
    "print(sources[ID])"
   ]
  },
  {
   "cell_type": "code",
   "execution_count": 7,
   "metadata": {},
   "outputs": [
    {
     "name": "stdout",
     "output_type": "stream",
     "text": [
      "[-13.387402727850779]\n"
     ]
    }
   ],
   "source": [
    "sourcemag = []\n",
    "sourcemagerror = []\n",
    "position = [(397.10945,351.28988)]\n",
    "aperture = CircularAperture(position[0], r=3) \n",
    "annulus_aperture = CircularAnnulus(position[0], r_in=12., r_out=15.)\n",
    "apers = [aperture, annulus_aperture]\n",
    "phot_table = aperture_photometry(image, apers)\n",
    "for col in phot_table.colnames:\n",
    "    phot_table[col].info.format = '%.8g'\n",
    "bkg_mean = phot_table['aperture_sum_1'] / annulus_aperture.area\n",
    "bkg_total = bkg_mean * aperture.area\n",
    "net_star = phot_table['aperture_sum_0'] - bkg_total\n",
    "sourcemag.append(-2.5*np.log10(phot_table['aperture_sum_0'][0]))\n",
    "sourcemagerror.append((-1.08574/phot_table['aperture_sum_0'][0])*np.sqrt(phot_table['aperture_sum_0'][0]))\n",
    "print(sourcemag)"
   ]
  },
  {
   "cell_type": "code",
   "execution_count": 8,
   "metadata": {},
   "outputs": [
    {
     "name": "stdout",
     "output_type": "stream",
     "text": [
      "10.057082034389742 +/- 0.2148133846179304\n"
     ]
    }
   ],
   "source": [
    "dy = 1/myoutput.beta[0]\n",
    "dc = -1/myoutput.beta[0]\n",
    "dm = (myoutput.beta[1]-sourcemag[0])/(myoutput.beta[0])**2\n",
    "error = np.sqrt((dy**2)*sourcemagerror[0]**2+(dc**2)*(myoutput.sd_beta[1])**2+(dm**2)*(myoutput.sd_beta[0])**2)\n",
    "print((sourcemag[0]-myoutput.beta[1])/myoutput.beta[0],'+/-',error)"
   ]
  },
  {
   "cell_type": "code",
   "execution_count": null,
   "metadata": {},
   "outputs": [],
   "source": []
  }
 ],
 "metadata": {
  "kernelspec": {
   "display_name": "Python 3",
   "language": "python",
   "name": "python3"
  },
  "language_info": {
   "codemirror_mode": {
    "name": "ipython",
    "version": 3
   },
   "file_extension": ".py",
   "mimetype": "text/x-python",
   "name": "python",
   "nbconvert_exporter": "python",
   "pygments_lexer": "ipython3",
   "version": "3.7.6"
  }
 },
 "nbformat": 4,
 "nbformat_minor": 4
}
