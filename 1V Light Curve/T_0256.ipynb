{
 "cells": [
  {
   "cell_type": "code",
   "execution_count": 1,
   "metadata": {},
   "outputs": [],
   "source": [
    "%matplotlib inline\n",
    "from astropy.stats import sigma_clipped_stats\n",
    "from photutils import CircularAperture, aperture_photometry, CircularAnnulus, DAOStarFinder\n",
    "import astropy.io.fits as pf\n",
    "import numpy as np\n",
    "import seaborn as sns\n",
    "sns.set()\n",
    "from astropy.visualization import SqrtStretch\n",
    "from astropy.visualization.mpl_normalize import ImageNormalize\n",
    "from astropy.wcs import WCS\n",
    "from matplotlib import pyplot as plt\n",
    "import os\n",
    "from scipy import stats\n",
    "from scipy.optimize import curve_fit\n",
    "from scipy import odr"
   ]
  },
  {
   "cell_type": "code",
   "execution_count": 5,
   "metadata": {},
   "outputs": [
    {
     "name": "stdout",
     "output_type": "stream",
     "text": [
      "<SkyCoord (FK5: equinox=2000.0): (ra, dec) in deg\n",
      "    (82.24888676, 42.50111471)>\n"
     ]
    },
    {
     "name": "stderr",
     "output_type": "stream",
     "text": [
      "WARNING: FITSFixedWarning: The WCS transformation has more axes (2) than the image it is associated with (0) [astropy.wcs.wcs]\n"
     ]
    }
   ],
   "source": [
    "os.chdir(r'C:\\Users\\garyc\\Desktop\\4th Year\\Astro Project')\n",
    "file = 'wcsT_0256.fits'\n",
    "image = pf.open(file)\n",
    "w = WCS(image[0].header)\n",
    "sky = w.pixel_to_world(100,100)\n",
    "print(sky)"
   ]
  },
  {
   "cell_type": "code",
   "execution_count": 8,
   "metadata": {},
   "outputs": [
    {
     "name": "stdout",
     "output_type": "stream",
     "text": [
      "[ 921.92344051 1268.9204088   860.93368725  523.11238195  659.91913495\n",
      "  568.59611261 1239.67202368 1315.09510843 1391.51865506 1131.01985137]\n",
      "[ 700.94725834  670.6146431   363.63795368 1007.27600765  345.52085614\n",
      "  835.58248858  365.97366888  802.37573634 1034.44637743 1179.39945832]\n",
      " id xcentroid ycentroid sharpness  ... sky    peak      flux      mag    \n",
      "--- --------- --------- ---------- ... --- --------- --------- ----------\n",
      "709 920.08743 694.16346 0.45678649 ...   0 66.149734 1.8959402 -0.6945616\n",
      " id xcentroid ycentroid sharpness  ... sky    peak      flux       mag    \n",
      "--- --------- --------- ---------- ... --- --------- --------- -----------\n",
      "678 1269.5976 663.94045 0.48522973 ...   0 36.980722 1.2714885 -0.26078111\n",
      " id xcentroid ycentroid sharpness  ... sky    peak      flux      mag    \n",
      "--- --------- --------- ---------- ... --- --------- --------- ----------\n",
      "349 861.57012 361.16649 0.39563271 ...   0 631.81984 13.344772 -2.8132779\n",
      " id xcentroid ycentroid sharpness roundness1 roundness2 npix sky peak flux mag\n",
      "--- --------- --------- --------- ---------- ---------- ---- --- ---- ---- ---\n",
      " id xcentroid ycentroid sharpness  ... sky    peak      flux      mag    \n",
      "--- --------- --------- ---------- ... --- --------- --------- ----------\n",
      "337 659.45937 343.17721 0.47999838 ...   0 335.13479 6.8484261 -2.0889769\n",
      " id xcentroid ycentroid sharpness  ... sky    peak     flux      mag    \n",
      "--- --------- --------- ---------- ... --- --------- -------- ----------\n",
      "838 566.36601 834.17857 0.41443379 ...   0 8923.5239 185.2766 -5.6695514\n",
      " id xcentroid ycentroid sharpness  ... sky    peak      flux      mag    \n",
      "--- --------- --------- ---------- ... --- --------- --------- ----------\n",
      "354 1239.9992 364.06791 0.40334842 ...   0 752.72774 15.401512 -2.9689084\n",
      " id xcentroid ycentroid sharpness  ... sky    peak      flux      mag    \n",
      "--- --------- --------- ---------- ... --- --------- --------- ----------\n",
      "809 1315.7297 800.09782 0.50654338 ...   0 215.27784 4.1330955 -1.5406886\n",
      " id  xcentroid ycentroid sharpness  ... sky    peak      flux      mag    \n",
      "---- --------- --------- ---------- ... --- --------- --------- ----------\n",
      "1041 1391.7525 1034.0613 0.40231373 ...   0 2031.1582 42.483117 -4.0705409\n",
      " id  xcentroid ycentroid sharpness  ... sky    peak      flux      mag    \n",
      "---- --------- --------- ---------- ... --- --------- --------- ----------\n",
      "1193 1130.3987 1179.3451 0.37791569 ...   0 123.25655 3.0532637 -1.2119108\n"
     ]
    }
   ],
   "source": [
    "x = [82.150936,82.110034,82.158453,82.197666,82.182192,82.192476,82.113757,82.104471,82.095256,82.125836]\n",
    "y = [42.449436,42.452321,42.478781,42.42245,42.480211,42.437444,42.478844,42.440872,42.420703,42.407897]\n",
    "a = []\n",
    "b = []\n",
    "for i,j in zip(x,y):\n",
    "    px, py = w.wcs_world2pix(i,j, 1)\n",
    "    a.append(px)\n",
    "    b.append(py)\n",
    "    #print('{0} {1}'.format(px, py))\n",
    "    \n",
    "os.chdir(r'C:\\Users\\garyc\\Desktop\\4th Year\\Astro Project\\2V Reduced\\1500 1500 files')\n",
    "file = 'reduceducdT_0256.fits'\n",
    "image = pf.getdata(file)\n",
    "\n",
    "\n",
    "a = np.array(a)\n",
    "b = np.array(b)\n",
    "a = a\n",
    "b = b\n",
    "print(a)\n",
    "print(b)\n",
    "mean, median, std = sigma_clipped_stats(image, sigma=3)\n",
    "daofind = DAOStarFinder(fwhm=5.0, threshold=3*std) \n",
    "sources = daofind(image - median)\n",
    "for col in sources.colnames: \n",
    "    sources[col].info.format = '%.8g'\n",
    "\n",
    "positions = []\n",
    "for i,j in zip(a,b):\n",
    "    ID = []\n",
    "    xref = i\n",
    "    yref = j\n",
    "    for k,l,m in zip(sources['xcentroid'],sources['ycentroid'],sources['id']):\n",
    "        if -10<(k-xref)<10 and -10<(l-yref)<10:\n",
    "            n = m-1\n",
    "            ID.append(n)\n",
    "            positions.append((k,l))\n",
    "    print(sources[ID])"
   ]
  },
  {
   "cell_type": "code",
   "execution_count": 4,
   "metadata": {},
   "outputs": [
    {
     "data": {
      "text/plain": [
       "9"
      ]
     },
     "execution_count": 4,
     "metadata": {},
     "output_type": "execute_result"
    }
   ],
   "source": [
    "len(positions)"
   ]
  },
  {
   "cell_type": "code",
   "execution_count": 9,
   "metadata": {},
   "outputs": [],
   "source": [
    "mags = []\n",
    "magserrors = []\n",
    "for i in positions:\n",
    "    aperture = CircularAperture(i, r=10) \n",
    "    annulus_aperture = CircularAnnulus(i, r_in=17., r_out=20.)\n",
    "    apers = [aperture, annulus_aperture]\n",
    "    phot_table = aperture_photometry(image, apers)\n",
    "    for col in phot_table.colnames:\n",
    "        phot_table[col].info.format = '%.8g'\n",
    "    bkg_mean = phot_table['aperture_sum_1'] / annulus_aperture.area\n",
    "    bkg_total = bkg_mean * aperture.area\n",
    "    net_star = phot_table['aperture_sum_0'] - bkg_total\n",
    "    mags.append(-2.5*np.log10(phot_table['aperture_sum_0'][0]))\n",
    "    dfdx = -1.08574/phot_table['aperture_sum_0'][0]\n",
    "    error = np.sqrt((dfdx**2)*(np.sqrt(phot_table['aperture_sum_0'][0]))**2)\n",
    "    magserrors.append(error)"
   ]
  },
  {
   "cell_type": "code",
   "execution_count": 19,
   "metadata": {},
   "outputs": [
    {
     "data": {
      "text/plain": [
       "9"
      ]
     },
     "execution_count": 19,
     "metadata": {},
     "output_type": "execute_result"
    }
   ],
   "source": [
    "len(mags)"
   ]
  },
  {
   "cell_type": "code",
   "execution_count": 11,
   "metadata": {},
   "outputs": [
    {
     "name": "stdout",
     "output_type": "stream",
     "text": [
      "[  0.4088055  -18.85781646]\n",
      "[[ 0.00307903 -0.03820284]\n",
      " [-0.03820284  0.48875351]]\n",
      "Beta: [  0.40313083 -18.77144207]\n",
      "Beta Std Error: [0.07440007 1.04277611]\n",
      "Beta Covariance: [[ 1.16738603e-05 -1.62207026e-04]\n",
      " [-1.62207026e-04  2.29324260e-03]]\n",
      "Residual Variance: 474.1678963372354\n",
      "Inverse Condition #: 0.05213938672526807\n",
      "Reason(s) for Halting:\n",
      "  Sum of squares convergence\n"
     ]
    },
    {
     "data": {
      "image/png": "[encoded data removed]",
      "text/plain": [
       "<Figure size 432x288 with 1 Axes>"
      ]
     },
     "metadata": {},
     "output_type": "display_data"
    }
   ],
   "source": [
    "#magserrors.remove(magserrors[2])\n",
    "#mags.remove(mags[2])\n",
    "realmag = [15.758,16.402,13.119,15.872,13.806,10.272,12.923,14.232,11.868,14.98]\n",
    "realmag.remove(realmag[4])\n",
    "realmag = np.array(realmag)\n",
    "realmagerrors = [0.036,0.054,0.037,0.041,0.057,0.041,0.049,0.063,0.058,0.066]\n",
    "realmagerrors.remove(realmagerrors[4])\n",
    "plt.errorbar(realmag,mags,magserrors,realmagerrors,fmt='.',color='k')\n",
    "plt.ylabel('Instrumental Magnitude')\n",
    "plt.xlabel('Real Magnitude')\n",
    "\n",
    "def f(x,m,c):\n",
    "    return m*x+c\n",
    "popt, pcov = curve_fit(f,realmag,mags,sigma=magserrors)\n",
    "print(popt)\n",
    "\n",
    "def func(p, x):\n",
    "    m, c = p\n",
    "    return m*x + c\n",
    "mydata = odr.RealData(realmag, mags, sx = realmagerrors, sy = magserrors)\n",
    "linear = odr.Model(func)\n",
    "myodr = odr.ODR(mydata, linear,beta0 =[1, -23])\n",
    "myoutput = myodr.run()\n",
    "y = myoutput.beta[0]*realmag+myoutput.beta[1]\n",
    "plt.plot(realmag,y)\n",
    "print(pcov)\n",
    "myoutput.pprint()"
   ]
  },
  {
   "cell_type": "code",
   "execution_count": 13,
   "metadata": {},
   "outputs": [
    {
     "name": "stdout",
     "output_type": "stream",
     "text": [
      " id  xcentroid ycentroid sharpness  ... sky    peak      flux       mag     \n",
      "---- --------- --------- ---------- ... --- --------- --------- ------------\n",
      "1193 1130.3987 1179.3451 0.37791569 ...   0 123.25655 3.0532637   -1.2119108\n",
      " 642 418.66874 627.19949 0.47564114 ...   0 12.592826  1.047672 -0.050563344\n",
      " 839 814.18354 833.18784 0.41928481 ...   0  12651.57  274.8564   -6.0977646\n"
     ]
    }
   ],
   "source": [
    "xref = 816\n",
    "yref = 833\n",
    "\n",
    "mean, median, std = sigma_clipped_stats(image, sigma=3)\n",
    "daofind = DAOStarFinder(fwhm=5.0, threshold=3*std) \n",
    "sources = daofind(image - median)\n",
    "for col in sources.colnames: \n",
    "    sources[col].info.format = '%.8g'\n",
    "for k,l,m in zip(sources['xcentroid'],sources['ycentroid'],sources['id']):\n",
    "    if -10<(k-xref)<10 and -10<(l-yref)<10:\n",
    "        n = m-1\n",
    "        ID.append(n)\n",
    "print(sources[ID])"
   ]
  },
  {
   "cell_type": "code",
   "execution_count": 18,
   "metadata": {},
   "outputs": [
    {
     "name": "stdout",
     "output_type": "stream",
     "text": [
      "[-15.172817026568746]\n"
     ]
    }
   ],
   "source": [
    "sourcemag = []\n",
    "sourcemagerror = []\n",
    "position = [(814.18354,833.18784)]\n",
    "aperture = CircularAperture(position[0], r=10) \n",
    "annulus_aperture = CircularAnnulus(position[0], r_in=17., r_out=20.)\n",
    "apers = [aperture, annulus_aperture]\n",
    "phot_table = aperture_photometry(image, apers)\n",
    "for col in phot_table.colnames:\n",
    "    phot_table[col].info.format = '%.8g'\n",
    "bkg_mean = phot_table['aperture_sum_1'] / annulus_aperture.area\n",
    "bkg_total = bkg_mean * aperture.area\n",
    "net_star = phot_table['aperture_sum_0'] - bkg_total\n",
    "sourcemag.append(-2.5*np.log10(phot_table['aperture_sum_0'][0]))\n",
    "sourcemagerror.append((-1.08574/phot_table['aperture_sum_0'][0])*np.sqrt(phot_table['aperture_sum_0'][0]))\n",
    "print(sourcemag)"
   ]
  },
  {
   "cell_type": "code",
   "execution_count": 19,
   "metadata": {},
   "outputs": [
    {
     "name": "stdout",
     "output_type": "stream",
     "text": [
      "8.926692726934393 +/- 3.0667824127254484\n"
     ]
    }
   ],
   "source": [
    "dy = 1/myoutput.beta[0]\n",
    "dc = -1/myoutput.beta[0]\n",
    "dm = (myoutput.beta[1]-sourcemag[0])/(myoutput.beta[0])**2\n",
    "error = np.sqrt((dy**2)*sourcemagerror[0]**2+(dc**2)*(myoutput.sd_beta[1])**2+(dm**2)*(myoutput.sd_beta[0])**2)\n",
    "print((sourcemag[0]-myoutput.beta[1])/myoutput.beta[0],'+/-',error)"
   ]
  },
  {
   "cell_type": "code",
   "execution_count": null,
   "metadata": {},
   "outputs": [],
   "source": []
  }
 ],
 "metadata": {
  "kernelspec": {
   "display_name": "Python 3",
   "language": "python",
   "name": "python3"
  },
  "language_info": {
   "codemirror_mode": {
    "name": "ipython",
    "version": 3
   },
   "file_extension": ".py",
   "mimetype": "text/x-python",
   "name": "python",
   "nbconvert_exporter": "python",
   "pygments_lexer": "ipython3",
   "version": "3.7.6"
  }
 },
 "nbformat": 4,
 "nbformat_minor": 4
}
