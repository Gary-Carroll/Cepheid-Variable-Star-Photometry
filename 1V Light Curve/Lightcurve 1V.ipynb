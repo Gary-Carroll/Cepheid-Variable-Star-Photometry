{
 "cells": [
  {
   "cell_type": "code",
   "execution_count": 10,
   "metadata": {},
   "outputs": [],
   "source": [
    "import matplotlib.pyplot as plt\n",
    "%matplotlib inline\n",
    "import numpy as np\n",
    "from scipy.optimize import curve_fit"
   ]
  },
  {
   "cell_type": "code",
   "execution_count": null,
   "metadata": {},
   "outputs": [],
   "source": [
    "import os\n",
    "import astropy.io.fits as pf\n",
    "files = []\n",
    "images = []\n",
    "directory = os.chdir(r'C:\\Users\\garyc\\Desktop\\4th Year\\Astro Project\\Cepheid1\\V')\n",
    "for file in os.listdir(directory):\n",
    "    if file.endswith(\".fits\"):\n",
    "        image=pf.getdata(file)\n",
    "        images.append(image)\n",
    "        files.append(file)\n",
    "    else:\n",
    "        continue\n",
    "for file in files:\n",
    "    i = pf.open(file)\n",
    "    image = pf.getdata(file)\n",
    "    print(file,i[0].header['DATE-OBS'])"
   ]
  },
  {
   "cell_type": "code",
   "execution_count": 8,
   "metadata": {},
   "outputs": [
    {
     "data": {
      "text/plain": [
       "Text(0, 0.5, 'Magnitude')"
      ]
     },
     "execution_count": 8,
     "metadata": {},
     "output_type": "execute_result"
    },
    {
     "data": {
      "image/png": "[encoded data removed]",
      "text/plain": [
       "<Figure size 432x288 with 1 Axes>"
      ]
     },
     "metadata": {
      "needs_background": "light"
     },
     "output_type": "display_data"
    }
   ],
   "source": [
    "#time = [0,0.0873,0.924,1.93,2.1,2.917,4.03,5.02]\n",
    "#mag = [8.5,5.24,11.14,9.85,8.6,7.95,19.3739,10.057]\n",
    "\n",
    "time = [0,0.0873,0.924,1.93,2.917,4.03,5.02]\n",
    "mag = [7.580790216459971,11.139793068633976,9.82912720558892,8.601666687419181,7.952435673328976,10.22695707767497,\n",
    "      10.057082034389742]\n",
    "magerror = [1.172606803558154,0.506369786780245,0.20456370376704003,0.9084555379840494,0.779811500216340,\n",
    "            0.4771677384108483,0.2148133846179304]\n",
    "#plt.errorbar(time,mag,magerror,color='k',fmt='o')\n",
    "plt.scatter(time,mag,color='k')\n",
    "plt.grid()\n",
    "plt.axis([-1,6,12,5])\n",
    "plt.xlabel('Days')\n",
    "plt.ylabel('Magnitude')"
   ]
  },
  {
   "cell_type": "code",
   "execution_count": null,
   "metadata": {},
   "outputs": [],
   "source": [
    "mag = [7.580790216459971,11.139793068633976,9.82912720558892,8.601666687419181,7.952435673328976,10.22695707767497,\n",
    "      10.057082034389742]\n",
    "len(mag)"
   ]
  },
  {
   "cell_type": "code",
   "execution_count": null,
   "metadata": {},
   "outputs": [],
   "source": [
    "time = [0,0.0873,0.886,0.924,1.93,2.917,4.03,5.02,]\n",
    "mag = [7.580790216459971,11.139793068633976,10.057082034389742,9.82912720558892,8.601666687419181,7.952435673328976,\n",
    "       10.22695707767497,10.057082034389742]\n",
    "magerror = [1.172606803558154,0.506369786780245,0.2148133846179304,0.20456370376704003,0.9084555379840494,0.779811500216340,\n",
    "            0.4771677384108483,0.2148133846179304]\n",
    "plt.errorbar(time,mag,magerror,color='k',fmt='o')\n",
    "plt.scatter(time,mag,color='k')\n",
    "plt.grid()\n",
    "\n",
    "\n",
    "\n",
    "#def func(x,a):\n",
    "#    return (1/a)*np.arctan((a*np.sin(x))/(1-a*np.cos(x)))\n",
    "#popt, pcov = curve_fit(func, time, mag,p0=0.5)\n",
    "#plt.plot(time, func(time, *popt))\n",
    "\n",
    "plt.axis([-1,6,12,5])\n",
    "plt.xlabel('Days')\n",
    "plt.ylabel('Magnitude')"
   ]
  },
  {
   "cell_type": "code",
   "execution_count": null,
   "metadata": {},
   "outputs": [],
   "source": [
    "plt.plot(time,yf)"
   ]
  },
  {
   "cell_type": "code",
   "execution_count": null,
   "metadata": {},
   "outputs": [],
   "source": [
    "time = [0,0.0873,0.886,0.924,1.93,2.917,4.03,5.02]\n",
    "time = np.array(time)\n",
    "mag = [7.580790216459971,11.139793068633976,10.057082034389742,9.82912720558892,8.601666687419181,7.952435673328976,\n",
    "       10.22695707767497,10.057082034389742]\n",
    "magerror = [1.172606803558154,0.506369786780245,0.2148133846179304,0.20456370376704003,0.9084555379840494,0.779811500216340,\n",
    "            0.4771677384108483,0.2148133846179304]\n",
    "#plt.errorbar(time,mag,magerror,color='k',fmt='o')\n",
    "plt.scatter(time,mag,color='k')\n",
    "plt.grid()\n",
    "\n",
    "def mysine(x, a):\n",
    "    return 4. * np.sin(a * x) + 8\n",
    "\n",
    "a = 1.759 # Wave frequency\n",
    "#x = np.linspace(0, 10, 100) # <== This is what I changed\n",
    "#y = np.sin(a * time) + 0. * np.random.normal(size=len(time))\n",
    "popt, pcov = curve_fit(mysine, time, mag, p0=[1.5])\n",
    "\n",
    "yf = mysine(time, *popt)\n",
    "\n",
    "plt.plot(time,yf)\n",
    "plt.show()\n",
    "plt.scatter(time,mag,color='k')\n",
    "plt.axis([-1,6,12,5])\n",
    "plt.xlabel('Days')\n",
    "plt.ylabel('Magnitude')\n",
    "plt.grid()"
   ]
  },
  {
   "cell_type": "code",
   "execution_count": null,
   "metadata": {},
   "outputs": [],
   "source": [
    "time = [0,0.0873,0.886,0.924,1.93,2.917,4.134,4.2213,5.02,5.058,6.064,7.051,8.268]\n",
    "mag = [7.580790216459971,11.139793068633976,10.057082034389742,9.82912720558892,8.601666687419181,7.952435673328976,\n",
    "      7.580790216459971,11.139793068633976,10.057082034389742,9.82912720558892,8.601666687419181,7.952435673328976,\n",
    "      7.580790216459971]\n",
    "magerror = [1.172606803558154,0.506369786780245,0.2148133846179304,0.20456370376704003,0.9084555379840494,0.779811500216340,\n",
    "            1.172606803558154,0.506369786780245,0.2148133846179304,0.20456370376704003,0.9084555379840494,0.779811500216340,\n",
    "           1.172606803558154]\n",
    "#plt.errorbar(time,mag,magerror,color='k',fmt='o')\n",
    "plt.scatter(time,mag,color='k')\n",
    "plt.plot(time,mag,color='blue')\n",
    "plt.grid()\n",
    "plt.axis([-1,9,12,5])\n",
    "plt.xlabel('Days')\n",
    "plt.ylabel('Magnitude')"
   ]
  },
  {
   "cell_type": "code",
   "execution_count": null,
   "metadata": {},
   "outputs": [],
   "source": [
    "phase = []\n",
    "for i in time:\n",
    "    j = i/4.134\n",
    "    phase.append(j)\n",
    "print(phase)\n",
    "plt.scatter(phase,mag,color='k')\n",
    "plt.plot(phase,mag,color='k')\n",
    "plt.axis([-0.1,2.1,12,6])\n",
    "plt.grid()\n"
   ]
  },
  {
   "cell_type": "code",
   "execution_count": 2,
   "metadata": {},
   "outputs": [
    {
     "name": "stdout",
     "output_type": "stream",
     "text": [
      "0.6386346914932554\n"
     ]
    }
   ],
   "source": [
    "import numpy as np \n",
    "dx = 1/2\n",
    "dy = 1/2\n",
    "xerr = 1.172606803558154\n",
    "yerr = 0.506369786780245\n",
    "Verror = np.sqrt((dx**2)*xerr**2+(dy**2)*yerr**2)\n",
    "print(Verror)"
   ]
  },
  {
   "cell_type": "code",
   "execution_count": 80,
   "metadata": {},
   "outputs": [
    {
     "name": "stdout",
     "output_type": "stream",
     "text": [
      "548.608487262815\n"
     ]
    }
   ],
   "source": [
    "p = 4.134\n",
    "v = 9.3603\n",
    "verr = 0.6386\n",
    "i = 7.0885\n",
    "ierr = 0.9566\n",
    "dv = -21.3115*(p**0.668)*np.e**(1.12827*i-0.66775*v)\n",
    "di = 36.0091*(p**0.668)*np.e**(1.12827*i-0.66775*v)\n",
    "#dv = -0.66774*1.58489**(-1.45*v+2.45*i+3.34*np.log10(p)+7.52)\n",
    "#di = 1.12826*1.58489**(-1.45*v+2.45*i+3.34*np.log10(p)+7.52)\n",
    "derror = np.sqrt((dv**2)*verr**2+(di**2)*ierr**2)\n",
    "print(derror)"
   ]
  },
  {
   "cell_type": "code",
   "execution_count": null,
   "metadata": {},
   "outputs": [],
   "source": [
    "print(dv**2)"
   ]
  },
  {
   "cell_type": "code",
   "execution_count": null,
   "metadata": {},
   "outputs": [],
   "source": [
    "print(di**2)"
   ]
  },
  {
   "cell_type": "code",
   "execution_count": null,
   "metadata": {},
   "outputs": [],
   "source": [
    "d = 10**((v++3.34*np.log10(4.134)-2.45*(v-i)+7.52)/5)\n",
    "print(d)"
   ]
  },
  {
   "cell_type": "code",
   "execution_count": null,
   "metadata": {},
   "outputs": [],
   "source": [
    "d = 10**((v+verr+3.34*np.log10(4.134)-2.45*(v+verr-i+ierr)+7.52)/5)\n",
    "print(d)"
   ]
  },
  {
   "cell_type": "code",
   "execution_count": null,
   "metadata": {},
   "outputs": [],
   "source": [
    "d = 10**((v+verr+3.34*np.log10(4.134)-2.45*(v+verr-i-ierr)+7.52)/5)\n",
    "print(d)"
   ]
  },
  {
   "cell_type": "code",
   "execution_count": null,
   "metadata": {},
   "outputs": [],
   "source": [
    "d = 10**((v-verr+3.34*np.log10(4.134)-2.45*(v-verr-i+ierr)+7.52)/5)\n",
    "print(d)"
   ]
  },
  {
   "cell_type": "code",
   "execution_count": null,
   "metadata": {},
   "outputs": [],
   "source": [
    "d = 10**((v-verr+3.34*np.log10(4.134)-2.45*((v-verr)-(i+ierr))+7.52)/5)\n",
    "print(d)"
   ]
  },
  {
   "cell_type": "code",
   "execution_count": 11,
   "metadata": {},
   "outputs": [],
   "source": [
    "Vtime = [0,0.0873,0.886,0.924,1.93,2.917,4.134,4.2213,5.02,5.058,6.064,7.051,8.268]\n",
    "Vmag = [7.580790216459971,11.139793068633976,10.057082034389742,9.82912720558892,8.601666687419181,7.952435673328976,\n",
    "      7.580790216459971,11.139793068633976,10.057082034389742,9.82912720558892,8.601666687419181,7.952435673328976,\n",
    "      7.580790216459971]\n",
    "Vmagerror = [1.172606803558154,0.506369786780245,0.2148133846179304,0.20456370376704003,0.9084555379840494,0.779811500216340,\n",
    "            1.172606803558154,0.506369786780245,0.2148133846179304,0.20456370376704003,0.9084555379840494,0.779811500216340,\n",
    "           1.172606803558154]\n",
    "Vphase = []\n",
    "for i in Vtime:\n",
    "    j = i/4.134\n",
    "    Vphase.append(j)\n",
    "\n",
    "Itime = [0,0.796,2.0069,2.829,4.134,4.93,6.1409,6.963,8.268]\n",
    "Imag = [5.761456120198756,8.41563628231496,7.752238960184977,7.04001419919539,5.761456120198756,8.41563628231496,\n",
    "       7.752238960184977,7.04001419919539,5.761456120198756]\n",
    "Imagerror = [1.280922481385846,1.421123597226109,0.7978188165638563,1.1226386430991173,0.632669814708558,\n",
    "            1.421123597226109,0.7978188165638563,1.1226386430991173,1.280922481385846]\n",
    "Iphase = []\n",
    "for i in Itime:\n",
    "    j = i/4.134\n",
    "    Iphase.append(j)"
   ]
  },
  {
   "cell_type": "code",
   "execution_count": 22,
   "metadata": {},
   "outputs": [
    {
     "data": {
      "image/png": "[encoded data removed]",
      "text/plain": [
       "<Figure size 432x288 with 1 Axes>"
      ]
     },
     "metadata": {
      "needs_background": "light"
     },
     "output_type": "display_data"
    }
   ],
   "source": [
    "plt.rcParams.update({'font.size': 15})\n",
    "plt.errorbar(Vphase,Vmag,Vmagerror,color='k',fmt='o')\n",
    "#plt.plot(Vphase,Vmag,color='k',label='Infrared')\n",
    "plt.axis([-0.1,2.1,12,6])\n",
    "plt.ylabel('Apparent Magnitude')\n",
    "plt.xlabel('Phase')\n",
    "plt.grid()\n",
    "#plt.savefig('v508visual.pdf',bbox_inches='tight')"
   ]
  },
  {
   "cell_type": "code",
   "execution_count": 4,
   "metadata": {},
   "outputs": [
    {
     "data": {
      "image/png": "[encoded data removed]",
      "text/plain": [
       "<Figure size 432x288 with 1 Axes>"
      ]
     },
     "metadata": {
      "needs_background": "light"
     },
     "output_type": "display_data"
    }
   ],
   "source": [
    "plt.rcParams.update({'font.size': 15})\n",
    "plt.scatter(Iphase,Imag,color='r')\n",
    "plt.plot(Iphase,Imag,color='r',label='Infrared')\n",
    "plt.scatter(Vphase,Vmag,color='k')\n",
    "plt.plot(Vphase,Vmag,color='k',label='Visible')\n",
    "plt.axis([-0.1,2.1,12,5])\n",
    "plt.legend(loc='lower right',prop={'size': 15})\n",
    "plt.ylabel('Apparent Magnitude')\n",
    "plt.xlabel('Phase')\n",
    "plt.grid()\n",
    "#plt.savefig('v508lightcurves.pdf',bbox_inches='tight')"
   ]
  },
  {
   "cell_type": "code",
   "execution_count": 5,
   "metadata": {},
   "outputs": [
    {
     "name": "stdout",
     "output_type": "stream",
     "text": [
      "9.360291642546974\n"
     ]
    }
   ],
   "source": [
    "print((np.max(Vmag)+np.min(Vmag))/2)"
   ]
  },
  {
   "cell_type": "code",
   "execution_count": 9,
   "metadata": {},
   "outputs": [
    {
     "data": {
      "text/plain": [
       "8.41563628231496"
      ]
     },
     "execution_count": 9,
     "metadata": {},
     "output_type": "execute_result"
    }
   ],
   "source": [
    "np.max(Imag)"
   ]
  },
  {
   "cell_type": "code",
   "execution_count": 21,
   "metadata": {},
   "outputs": [
    {
     "name": "stdout",
     "output_type": "stream",
     "text": [
      "2.8979930137293177\n"
     ]
    }
   ],
   "source": [
    "v = Vmag[1]-5*np.log10(445)+5\n",
    "i = Imag[1]-5*np.log10(445)+5\n",
    "tmin = 10**(4.199-np.sqrt(0.04622+0.2222*(v-i)))\n",
    "print(v)"
   ]
  },
  {
   "cell_type": "code",
   "execution_count": 22,
   "metadata": {},
   "outputs": [
    {
     "name": "stdout",
     "output_type": "stream",
     "text": [
      "-0.661009838444687\n",
      "906.4540016407941\n"
     ]
    }
   ],
   "source": [
    "v = Vmag[0]-5*np.log10(445)+5\n",
    "i = Imag[0]-5*np.log10(445)+5\n",
    "tmax = 10**(4.199-np.sqrt(0.04622+0.2222*(v-i)))\n",
    "print(v)\n",
    "print(tmax-tmin)"
   ]
  },
  {
   "cell_type": "code",
   "execution_count": 27,
   "metadata": {},
   "outputs": [
    {
     "data": {
      "text/plain": [
       "[-0.1, 2.1, 12, 5]"
      ]
     },
     "execution_count": 27,
     "metadata": {},
     "output_type": "execute_result"
    },
    {
     "data": {
      "image/png": "[encoded data removed]",
      "text/plain": [
       "<Figure size 432x288 with 1 Axes>"
      ]
     },
     "metadata": {
      "needs_background": "light"
     },
     "output_type": "display_data"
    }
   ],
   "source": [
    "plt.scatter(Vphase,Vmag)\n",
    "plt.grid()\n",
    "plt.axis([-0.1,2.1,12,5])"
   ]
  },
  {
   "cell_type": "code",
   "execution_count": 30,
   "metadata": {},
   "outputs": [
    {
     "name": "stdout",
     "output_type": "stream",
     "text": [
      "1.7797930686339765\n"
     ]
    }
   ],
   "source": [
    "print(np.max(Vmag)-9.36)"
   ]
  },
  {
   "cell_type": "code",
   "execution_count": 15,
   "metadata": {},
   "outputs": [
    {
     "name": "stdout",
     "output_type": "stream",
     "text": [
      "100.6493568511582\n"
     ]
    }
   ],
   "source": [
    "g = 10**(-1.05*np.log10(4.134)+2.65)\n",
    "print(g)"
   ]
  },
  {
   "cell_type": "code",
   "execution_count": 12,
   "metadata": {},
   "outputs": [
    {
     "name": "stdout",
     "output_type": "stream",
     "text": [
      "0.8159865037707392\n"
     ]
    }
   ],
   "source": [
    "x = 37\n",
    "m = (x**2)*7.310798e27\n",
    "dmdx = 2*x*7.310798e27\n",
    "xerr = 3\n",
    "merr = np.sqrt((dmdx**2)*xerr**2)\n",
    "print(merr/1.989e30)"
   ]
  },
  {
   "cell_type": "code",
   "execution_count": 13,
   "metadata": {},
   "outputs": [
    {
     "name": "stdout",
     "output_type": "stream",
     "text": [
      "5.031916773252891\n"
     ]
    }
   ],
   "source": [
    "print(m/1.989e30)"
   ]
  },
  {
   "cell_type": "code",
   "execution_count": null,
   "metadata": {},
   "outputs": [],
   "source": []
  }
 ],
 "metadata": {
  "kernelspec": {
   "display_name": "Python 3",
   "language": "python",
   "name": "python3"
  },
  "language_info": {
   "codemirror_mode": {
    "name": "ipython",
    "version": 3
   },
   "file_extension": ".py",
   "mimetype": "text/x-python",
   "name": "python",
   "nbconvert_exporter": "python",
   "pygments_lexer": "ipython3",
   "version": "3.7.6"
  }
 },
 "nbformat": 4,
 "nbformat_minor": 4
}
