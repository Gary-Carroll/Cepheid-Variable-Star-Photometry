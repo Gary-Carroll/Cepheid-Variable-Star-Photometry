{
 "cells": [
  {
   "cell_type": "code",
   "execution_count": 1,
   "metadata": {},
   "outputs": [],
   "source": [
    "%matplotlib inline\n",
    "from astropy.stats import sigma_clipped_stats\n",
    "from photutils import CircularAperture, aperture_photometry, CircularAnnulus, DAOStarFinder\n",
    "import astropy.io.fits as pf\n",
    "import numpy as np\n",
    "import seaborn as sns\n",
    "sns.set()\n",
    "from astropy.visualization import SqrtStretch\n",
    "from astropy.visualization.mpl_normalize import ImageNormalize\n",
    "from astropy.wcs import WCS\n",
    "from matplotlib import pyplot as plt\n",
    "import os\n",
    "from scipy import stats\n",
    "from scipy.optimize import curve_fit\n",
    "from scipy import odr"
   ]
  },
  {
   "cell_type": "code",
   "execution_count": 16,
   "metadata": {},
   "outputs": [
    {
     "name": "stdout",
     "output_type": "stream",
     "text": [
      "<SkyCoord (FK5: equinox=2000.0): (ra, dec) in deg\n",
      "    (101.95564607, 4.12251639)>\n"
     ]
    },
    {
     "name": "stderr",
     "output_type": "stream",
     "text": [
      "WARNING: FITSFixedWarning: The WCS transformation has more axes (2) than the image it is associated with (0) [astropy.wcs.wcs]\n"
     ]
    }
   ],
   "source": [
    "os.chdir(r'C:\\Users\\garyc\\Desktop\\4th Year\\Astro Project')\n",
    "file = 'wcsW_0258.fits'\n",
    "image = pf.open(file)\n",
    "w = WCS(image[0].header)\n",
    "sky = w.pixel_to_world(100,100)\n",
    "print(sky)"
   ]
  },
  {
   "cell_type": "code",
   "execution_count": 17,
   "metadata": {},
   "outputs": [
    {
     "name": "stdout",
     "output_type": "stream",
     "text": [
      "[129.17390307 155.55141112 608.03791818 185.47441463 295.99045942\n",
      " 225.57340907 676.41735808 557.65110691 727.74513426 624.08739923]\n",
      "[588.85729786 692.41117754 573.21995968 512.03346222 537.25036915\n",
      " 523.35803766 140.50845148 163.53913317 227.97066357 403.05666829]\n",
      " id xcentroid ycentroid sharpness  ... sky    peak      flux      mag    \n",
      "--- --------- --------- ---------- ... --- --------- --------- ----------\n",
      "455 127.67444 587.53842 0.56105525 ...   0 384.79125 28.407065 -3.6335659\n",
      " id xcentroid ycentroid sharpness  ... sky    peak      flux      mag    \n",
      "--- --------- --------- ---------- ... --- --------- --------- ----------\n",
      "553 154.32268 690.76792 0.57074085 ...   0 296.60448 22.474013 -3.3792016\n",
      " id xcentroid ycentroid sharpness roundness1 roundness2 npix sky peak flux mag\n",
      "--- --------- --------- --------- ---------- ---------- ---- --- ---- ---- ---\n",
      " id xcentroid ycentroid sharpness  ... sky    peak      flux      mag    \n",
      "--- --------- --------- ---------- ... --- --------- --------- ----------\n",
      "387 184.00339 509.82059 0.52165418 ...   0 573.66775 45.107608 -4.1356245\n",
      " id xcentroid ycentroid sharpness  ... sky    peak     flux      mag    \n",
      "--- --------- --------- ---------- ... --- --------- -------- ----------\n",
      "410 294.95958 535.60181 0.54102768 ...   0 1594.7309 120.8495 -5.2056122\n",
      " id xcentroid ycentroid sharpness  ... sky    peak      flux      mag    \n",
      "--- --------- --------- ---------- ... --- --------- --------- ----------\n",
      "398 223.78281 522.75463 0.54373043 ...   0 829.81034 63.300705 -4.5035214\n",
      " id xcentroid ycentroid sharpness ... sky    peak      flux      mag    \n",
      "--- --------- --------- --------- ... --- --------- --------- ----------\n",
      "113 675.76257 138.93569 0.5310576 ...   0 584.02484 44.823418 -4.1287624\n",
      " id xcentroid ycentroid sharpness  ... sky    peak      flux      mag    \n",
      "--- --------- --------- ---------- ... --- --------- --------- ----------\n",
      "126 555.96027  161.9105 0.55159433 ...   0 163.81303 12.373294 -2.7312133\n",
      " id xcentroid ycentroid sharpness  ... sky    peak      flux      mag    \n",
      "--- --------- --------- ---------- ... --- --------- --------- ----------\n",
      "176 726.86402 225.93262 0.54506667 ...   0 269.75835 20.738247 -3.2919301\n",
      " id xcentroid ycentroid sharpness  ... sky    peak      flux      mag    \n",
      "--- --------- --------- ---------- ... --- --------- --------- ----------\n",
      "301 622.97973 401.38567 0.49857301 ...   0 374.82543 30.202922 -3.7001224\n"
     ]
    }
   ],
   "source": [
    "x = [101.839311,101.834507,101.755641,101.829614,101.810250,101.822584,101.744490,101.765208,101.735356,101.753151]\n",
    "y = [03.929904,3.911874,3.933425,03.943406,3.939188,03.941496,04.009061,04.004846,3.993880,3.963151]\n",
    "a = []\n",
    "b = []\n",
    "for i,j in zip(x,y):\n",
    "    px, py = w.wcs_world2pix(i,j, 1)\n",
    "    a.append(px)\n",
    "    b.append(py)\n",
    "    #print('{0} {1}'.format(px, py))\n",
    "    \n",
    "os.chdir(r'C:\\Users\\garyc\\Desktop\\4th Year\\Astro Project\\1V Reduced')\n",
    "file1 = 'reduceducdW_0258.fits'\n",
    "image1 = pf.getdata(file1)\n",
    "file2 = 'reduceducdW_0259.fits'\n",
    "image2 = pf.getdata(file2)\n",
    "image = image1+image2\n",
    "\n",
    "a = np.array(a)\n",
    "b = np.array(b)\n",
    "a = a-625\n",
    "b = b-625\n",
    "print(a)\n",
    "print(b)\n",
    "mean, median, std = sigma_clipped_stats(image, sigma=3)\n",
    "daofind = DAOStarFinder(fwhm=5.0, threshold=3*std) \n",
    "sources = daofind(image - median)\n",
    "for col in sources.colnames: \n",
    "    sources[col].info.format = '%.8g'\n",
    "\n",
    "positions = []\n",
    "for i,j in zip(a,b):\n",
    "    ID = []\n",
    "    xref = i\n",
    "    yref = j\n",
    "    for k,l,m in zip(sources['xcentroid'],sources['ycentroid'],sources['id']):\n",
    "        if -5<(k-xref)<5 and -5<(l-yref)<5:\n",
    "            n = m-1\n",
    "            ID.append(n)\n",
    "            positions.append((k,l))\n",
    "    print(sources[ID])"
   ]
  },
  {
   "cell_type": "code",
   "execution_count": 18,
   "metadata": {},
   "outputs": [],
   "source": [
    "mags = []\n",
    "magserrors = []\n",
    "for i in positions:\n",
    "    aperture = CircularAperture(i, r=4) \n",
    "    annulus_aperture = CircularAnnulus(i, r_in=12., r_out=15.)\n",
    "    apers = [aperture, annulus_aperture]\n",
    "    phot_table = aperture_photometry(image, apers)\n",
    "    for col in phot_table.colnames:\n",
    "        phot_table[col].info.format = '%.8g'\n",
    "    bkg_mean = phot_table['aperture_sum_1'] / annulus_aperture.area\n",
    "    bkg_total = bkg_mean * aperture.area\n",
    "    net_star = phot_table['aperture_sum_0'] - bkg_total\n",
    "    mags.append(-2.5*np.log10(phot_table['aperture_sum_0'][0]))\n",
    "    dfdx = -1.08574/phot_table['aperture_sum_0'][0]\n",
    "    error = np.sqrt((dfdx**2)*(np.sqrt(phot_table['aperture_sum_0'][0]))**2)\n",
    "    magserrors.append(error)"
   ]
  },
  {
   "cell_type": "code",
   "execution_count": 19,
   "metadata": {},
   "outputs": [
    {
     "name": "stdout",
     "output_type": "stream",
     "text": [
      "[  0.60066155 -19.18395235]\n",
      "[[ 0.00099872 -0.01442457]\n",
      " [-0.01442457  0.20895902]]\n",
      "Beta: [  0.60562247 -19.23522899]\n",
      "Beta Std Error: [0.03205305 0.47610976]\n",
      "Beta Covariance: [[ 0.00012356 -0.00183406]\n",
      " [-0.00183406  0.02726246]]\n",
      "Residual Variance: 8.31474984219554\n",
      "Inverse Condition #: 0.015130555491607982\n",
      "Reason(s) for Halting:\n",
      "  Sum of squares convergence\n"
     ]
    },
    {
     "data": {
      "image/png": "[encoded data removed]",
      "text/plain": [
       "<Figure size 432x288 with 1 Axes>"
      ]
     },
     "metadata": {},
     "output_type": "display_data"
    }
   ],
   "source": [
    "mags = np.array(mags)\n",
    "realmag = [14.909,15.313,14.459,13.321,14.072,14.495,15.924,15.427,14.909]\n",
    "realmag = np.array(realmag)\n",
    "realmagerrors = [0.0032,0.0074,0.042,0.037,0.044,0.039,0.063,0.062,0.043]\n",
    "plt.errorbar(realmag,mags,magserrors,realmagerrors,fmt='.',color='k')\n",
    "plt.ylabel('Instrumental Magnitude')\n",
    "plt.xlabel('Real Magnitude')\n",
    "\n",
    "def f(x,m,c):\n",
    "    return m*x+c\n",
    "popt, pcov = curve_fit(f,realmag,mags,sigma=magserrors)\n",
    "print(popt)\n",
    "\n",
    "def func(p, x):\n",
    "    m, c = p\n",
    "    return m*x + c\n",
    "mydata = odr.RealData(realmag, mags, sx = realmagerrors, sy = magserrors)\n",
    "linear = odr.Model(func)\n",
    "myodr = odr.ODR(mydata, linear,beta0 =[1, -23])\n",
    "myoutput = myodr.run()\n",
    "y = myoutput.beta[0]*realmag+myoutput.beta[1]\n",
    "plt.plot(realmag,y)\n",
    "print(pcov)\n",
    "myoutput.pprint()"
   ]
  },
  {
   "cell_type": "code",
   "execution_count": 20,
   "metadata": {},
   "outputs": [
    {
     "name": "stdout",
     "output_type": "stream",
     "text": [
      " id xcentroid ycentroid sharpness  ... sky    peak      flux      mag    \n",
      "--- --------- --------- ---------- ... --- --------- --------- ----------\n",
      "301 622.97973 401.38567 0.49857301 ...   0 374.82543 30.202922 -3.7001224\n",
      "285 416.99051 376.56804 0.54192258 ...   0 25391.335 1945.8715 -8.2227854\n"
     ]
    }
   ],
   "source": [
    "xref = 417\n",
    "yref = 376\n",
    "\n",
    "mean, median, std = sigma_clipped_stats(image, sigma=3)\n",
    "daofind = DAOStarFinder(fwhm=5.0, threshold=3*std) \n",
    "sources = daofind(image - median)\n",
    "for col in sources.colnames: \n",
    "    sources[col].info.format = '%.8g'\n",
    "for k,l,m in zip(sources['xcentroid'],sources['ycentroid'],sources['id']):\n",
    "    if -10<(k-xref)<10 and -10<(l-yref)<10:\n",
    "        n = m-1\n",
    "        ID.append(n)\n",
    "print(sources[ID])"
   ]
  },
  {
   "cell_type": "code",
   "execution_count": 28,
   "metadata": {},
   "outputs": [
    {
     "name": "stdout",
     "output_type": "stream",
     "text": [
      "[-14.02586639258385]\n"
     ]
    }
   ],
   "source": [
    "sourcemag = []\n",
    "sourcemagerror = []\n",
    "position = [(416.99051,376.56804)]\n",
    "aperture = CircularAperture(position[0], r=4) \n",
    "annulus_aperture = CircularAnnulus(position[0], r_in=12., r_out=15.)\n",
    "apers = [aperture, annulus_aperture]\n",
    "phot_table = aperture_photometry(image, apers)\n",
    "for col in phot_table.colnames:\n",
    "    phot_table[col].info.format = '%.8g'\n",
    "bkg_mean = phot_table['aperture_sum_1'] / annulus_aperture.area\n",
    "bkg_total = bkg_mean * aperture.area\n",
    "net_star = phot_table['aperture_sum_0'] - bkg_total\n",
    "sourcemag.append(-2.5*np.log10(phot_table['aperture_sum_0'][0]))\n",
    "sourcemagerror.append((-1.08574/phot_table['aperture_sum_0'][0])*np.sqrt(phot_table['aperture_sum_0'][0]))\n",
    "print(sourcemag)"
   ]
  },
  {
   "cell_type": "code",
   "execution_count": 29,
   "metadata": {
    "scrolled": true
   },
   "outputs": [
    {
     "name": "stdout",
     "output_type": "stream",
     "text": [
      "8.601666687419181 +/- 0.9084555379840494\n"
     ]
    }
   ],
   "source": [
    "dy = 1/myoutput.beta[0]\n",
    "dc = -1/myoutput.beta[0]\n",
    "dm = (myoutput.beta[1]-sourcemag[0])/(myoutput.beta[0])**2\n",
    "error = np.sqrt((dy**2)*sourcemagerror[0]**2+(dc**2)*(myoutput.sd_beta[1])**2+(dm**2)*(myoutput.sd_beta[0])**2)\n",
    "print((sourcemag[0]-myoutput.beta[1])/myoutput.beta[0],'+/-',error)"
   ]
  },
  {
   "cell_type": "code",
   "execution_count": null,
   "metadata": {},
   "outputs": [],
   "source": []
  }
 ],
 "metadata": {
  "kernelspec": {
   "display_name": "Python 3",
   "language": "python",
   "name": "python3"
  },
  "language_info": {
   "codemirror_mode": {
    "name": "ipython",
    "version": 3
   },
   "file_extension": ".py",
   "mimetype": "text/x-python",
   "name": "python",
   "nbconvert_exporter": "python",
   "pygments_lexer": "ipython3",
   "version": "3.7.6"
  }
 },
 "nbformat": 4,
 "nbformat_minor": 4
}
