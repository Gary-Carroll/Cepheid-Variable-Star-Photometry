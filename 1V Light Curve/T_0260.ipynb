{
 "cells": [
  {
   "cell_type": "code",
   "execution_count": 1,
   "metadata": {},
   "outputs": [],
   "source": [
    "%matplotlib inline\n",
    "from astropy.stats import sigma_clipped_stats\n",
    "from photutils import CircularAperture, aperture_photometry, CircularAnnulus, DAOStarFinder\n",
    "import astropy.io.fits as pf\n",
    "import numpy as np\n",
    "import seaborn as sns\n",
    "sns.set()\n",
    "from astropy.visualization import SqrtStretch\n",
    "from astropy.visualization.mpl_normalize import ImageNormalize\n",
    "from astropy.wcs import WCS\n",
    "from matplotlib import pyplot as plt\n",
    "import os\n",
    "from scipy import stats\n",
    "from scipy.optimize import curve_fit\n",
    "from scipy import odr\n",
    "import warnings\n",
    "warnings.filterwarnings('ignore')"
   ]
  },
  {
   "cell_type": "code",
   "execution_count": 2,
   "metadata": {},
   "outputs": [
    {
     "name": "stdout",
     "output_type": "stream",
     "text": [
      "<SkyCoord (FK5: equinox=2000.0): (ra, dec) in deg\n",
      "    (82.24931455, 42.50138038)>\n"
     ]
    }
   ],
   "source": [
    "os.chdir(r'C:\\Users\\garyc\\Desktop\\4th Year\\Astro Project')\n",
    "file = 'wcsT_0260.fits'\n",
    "image = pf.open(file)\n",
    "w = WCS(image[0].header)\n",
    "sky = w.pixel_to_world(100,100)\n",
    "print(sky)"
   ]
  },
  {
   "cell_type": "code",
   "execution_count": 8,
   "metadata": {},
   "outputs": [
    {
     "name": "stdout",
     "output_type": "stream",
     "text": [
      "[ 864.47843381  663.62867003  572.17991662 1242.91908807 1318.10739764\n",
      " 1394.37764236 1134.02458633]\n",
      "[ 367.26171692  349.13689743  838.97302518  369.62614837  805.83971836\n",
      " 1037.8129732  1182.68100841]\n",
      " id xcentroid ycentroid sharpness  ... sky    peak      flux      mag    \n",
      "--- --------- --------- ---------- ... --- --------- --------- ----------\n",
      "356 864.59012 364.97022 0.53614663 ...   0 430.46708 10.809837 -2.5845478\n",
      " id xcentroid ycentroid sharpness ... sky    peak      flux      mag   \n",
      "--- --------- --------- --------- ... --- --------- --------- ---------\n",
      "337  663.0169 346.94829 0.4188648 ...   0 218.70503 5.9593376 -1.937995\n",
      " id xcentroid ycentroid sharpness  ... sky    peak      flux      mag    \n",
      "--- --------- --------- ---------- ... --- --------- --------- ----------\n",
      "821 570.13062 837.56751 0.48740899 ...   0 3525.4308 92.867647 -4.9196611\n",
      " id xcentroid ycentroid sharpness  ... sky    peak      flux      mag    \n",
      "--- --------- --------- ---------- ... --- --------- --------- ----------\n",
      "358 1243.2008 367.35794 0.41986241 ...   0 350.73509 9.4350521 -2.4368608\n",
      " id xcentroid ycentroid sharpness  ... sky    peak      flux      mag    \n",
      "--- --------- --------- ---------- ... --- --------- --------- ----------\n",
      "794 1318.3062 803.47294 0.28384407 ...   0 180.29054 5.2992069 -1.8105272\n",
      " id  xcentroid ycentroid sharpness  ... sky    peak      flux      mag    \n",
      "---- --------- --------- ---------- ... --- --------- --------- ----------\n",
      "1009 1394.1361 1036.7749 0.49741276 ...   0 4553.4037 109.42398 -5.0977813\n",
      " id  xcentroid ycentroid sharpness  ... sky    peak     flux       mag    \n",
      "---- --------- --------- ---------- ... --- --------- -------- -----------\n",
      "1150 1132.8868 1182.0764 0.44969191 ...   0 88.715025 2.498894 -0.99436957\n"
     ]
    }
   ],
   "source": [
    "x = [82.158453,82.182192,82.192476,82.113757,82.104471,82.095256,82.125836]\n",
    "y = [42.478781,42.480211,42.437444,42.478844,42.440872,42.420703,42.407897]\n",
    "a = []\n",
    "b = []\n",
    "for i,j in zip(x,y):\n",
    "    px, py = w.wcs_world2pix(i,j, 1)\n",
    "    a.append(px)\n",
    "    b.append(py)\n",
    "    #print('{0} {1}'.format(px, py))\n",
    "    \n",
    "os.chdir(r'C:\\Users\\garyc\\Desktop\\4th Year\\Astro Project\\2I Reduced\\1500 1500 files')\n",
    "file = 'reduceducdT_0260.fits'\n",
    "image = pf.getdata(file)\n",
    "\n",
    "a = np.array(a)\n",
    "b = np.array(b)\n",
    "a = a\n",
    "b = b\n",
    "print(a)\n",
    "print(b)\n",
    "mean, median, std = sigma_clipped_stats(image, sigma=3)\n",
    "daofind = DAOStarFinder(fwhm=5.0, threshold=3*std) \n",
    "sources = daofind(image - median)\n",
    "for col in sources.colnames: \n",
    "    sources[col].info.format = '%.8g'\n",
    "\n",
    "positions = []\n",
    "for i,j in zip(a,b):\n",
    "    ID = []\n",
    "    xref = i\n",
    "    yref = j\n",
    "    for k,l,m in zip(sources['xcentroid'],sources['ycentroid'],sources['id']):\n",
    "        if -5<(k-xref)<5 and -5<(l-yref)<5:\n",
    "            n = m-1\n",
    "            ID.append(n)\n",
    "            positions.append((k,l))\n",
    "    print(sources[ID])"
   ]
  },
  {
   "cell_type": "code",
   "execution_count": 9,
   "metadata": {},
   "outputs": [],
   "source": [
    "mags = []\n",
    "magserrors = []\n",
    "for i in positions:\n",
    "    aperture = CircularAperture(i, r=3) \n",
    "    annulus_aperture = CircularAnnulus(i, r_in=12., r_out=15.)\n",
    "    apers = [aperture, annulus_aperture]\n",
    "    phot_table = aperture_photometry(image, apers)\n",
    "    for col in phot_table.colnames:\n",
    "        phot_table[col].info.format = '%.8g'\n",
    "    bkg_mean = phot_table['aperture_sum_1'] / annulus_aperture.area\n",
    "    bkg_total = bkg_mean * aperture.area\n",
    "    net_star = phot_table['aperture_sum_0'] - bkg_total\n",
    "    mags.append(-2.5*np.log10(phot_table['aperture_sum_0'][0]))\n",
    "    dfdx = -1.08574/phot_table['aperture_sum_0'][0]\n",
    "    error = np.sqrt((dfdx**2)*(np.sqrt(phot_table['aperture_sum_0'][0]))**2)\n",
    "    magserrors.append(error)"
   ]
  },
  {
   "cell_type": "code",
   "execution_count": 10,
   "metadata": {},
   "outputs": [
    {
     "name": "stdout",
     "output_type": "stream",
     "text": [
      "Beta: [  0.53492114 -17.61627767]\n",
      "Beta Std Error: [0.04815756 0.58343949]\n",
      "Beta Covariance: [[ 0.06835895 -0.8222513 ]\n",
      " [-0.8222513  10.03363039]]\n",
      "Residual Variance: 0.033926069204929944\n",
      "Inverse Condition #: 0.04295846921681007\n",
      "Reason(s) for Halting:\n",
      "  Sum of squares convergence\n"
     ]
    },
    {
     "data": {
      "image/png": "[encoded data removed]",
      "text/plain": [
       "<Figure size 432x288 with 1 Axes>"
      ]
     },
     "metadata": {},
     "output_type": "display_data"
    }
   ],
   "source": [
    "mags = np.array(mags)\n",
    "Vmag = [13.119,13.806,10.272,12.923,14.323,11.868,14.98]\n",
    "Vmag = np.array(Vmag)\n",
    "Vmagerrors = [0.037,0.057,0.041,0.049,0.063,0.058,0.066]\n",
    "\n",
    "\n",
    "rprime = [12.940,13.608,10.316,12.843,13.891,11.167,14.691]\n",
    "rprimeerror = [0.026,0.046,0.033,0.027,0.041,0.033,0.071]\n",
    "\n",
    "iprime = [12.726,13.39,10.326,12.771,13.502,10.349,14.299]\n",
    "iprimeerror = [0.026,0.15,0.074,0.054,0.067,0.07,0.062,0.043]\n",
    "\n",
    "Imag = []\n",
    "Imagerror = []\n",
    "for rp, ip, rperror, iperror in zip(rprime,iprime,rprimeerror,iprimeerror):\n",
    "    r = rp +0.035*(rp-ip-0.21)\n",
    "    rdrp = 1.035\n",
    "    rdip = -0.035\n",
    "    rerror = np.sqrt((rdrp**2)*rperror**2+(rdip**2)*iperror**2)\n",
    "    \n",
    "    i = ip + 0.041*(rp-ip-0.21)\n",
    "    idrp = 0.041\n",
    "    idip = 0.959\n",
    "    ierror = np.sqrt((idrp**2)*rperror**2+(idip**2)*iperror**2)\n",
    "    \n",
    "   \n",
    "    I = r-1.2444*(r-i)-0.382\n",
    "    dr = -0.2444\n",
    "    di = -1.2444\n",
    "    Ierror = np.sqrt((dr**2)*(rerror**2)+(di**2)*(ierror**2))\n",
    "    \n",
    "    Imag.append(I)\n",
    "    Imagerror.append(Ierror)\n",
    "Imag = np.array(Imag)\n",
    "Imagerror = np.array(Imagerror)\n",
    "\n",
    "\n",
    "\n",
    "plt.errorbar(Imag,mags,xerr=Imagerror,yerr=magserrors,fmt='o')\n",
    "plt.ylabel('Instrumental Magnitude')\n",
    "plt.xlabel('Real Magnitude')\n",
    "\n",
    "def func(p, x):\n",
    "    m, c = p\n",
    "    return m*x + c\n",
    "mydata = odr.RealData(Imag, mags, sx = Imagerror, sy = None)\n",
    "linear = odr.Model(func)\n",
    "myodr = odr.ODR(mydata, linear,beta0 =[1, -23])\n",
    "myoutput = myodr.run()\n",
    "y = myoutput.beta[0]*Imag+myoutput.beta[1]\n",
    "plt.plot(Imag,y)\n",
    "myoutput.pprint()"
   ]
  },
  {
   "cell_type": "code",
   "execution_count": null,
   "metadata": {},
   "outputs": [],
   "source": []
  }
 ],
 "metadata": {
  "kernelspec": {
   "display_name": "Python 3",
   "language": "python",
   "name": "python3"
  },
  "language_info": {
   "codemirror_mode": {
    "name": "ipython",
    "version": 3
   },
   "file_extension": ".py",
   "mimetype": "text/x-python",
   "name": "python",
   "nbconvert_exporter": "python",
   "pygments_lexer": "ipython3",
   "version": "3.7.6"
  }
 },
 "nbformat": 4,
 "nbformat_minor": 4
}
